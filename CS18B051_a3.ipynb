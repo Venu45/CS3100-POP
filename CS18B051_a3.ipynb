{
 "cells": [
  {
   "cell_type": "markdown",
   "metadata": {},
   "source": [
    "Before you turn this problem in, make sure everything runs as expected. First, **restart the kernel** (in the menubar, select Kernel$\\rightarrow$Restart) and then **run all cells** (in the menubar, select Cell$\\rightarrow$Run All).\n",
    "\n",
    "Make sure you fill in any place that says `YOUR CODE HERE` or \"YOUR ANSWER HERE\", as well as your name below:"
   ]
  },
  {
   "cell_type": "code",
   "execution_count": 1,
   "metadata": {},
   "outputs": [],
   "source": [
    "let name = \"Anumala Venu Madhava Reddy\"\n",
    "let rollno = \"CS18B051\""
   ]
  },
  {
   "cell_type": "markdown",
   "metadata": {},
   "source": [
    "## Important notes about grading:\n",
    "\n",
    "1. **Compiler errors:** All code you submit must compile. Programs that do not compile will probably receive an automatic zero. If you are having trouble getting your assignment to compile, please visit consulting hours. If you run out of time, it is better to comment out the parts that do not compile, than hand in a more complete file that does not compile.\n",
    "2. **Late assignments:** Please carefully review the course website's policy on late assignments, as all assignments handed in after the deadline will be considered late. Verify on moodle that you have submitted the correct version, before the deadline. Submitting the incorrect version before the deadline and realizing that you have done so after the deadline will be counted as a late submission."
   ]
  },
  {
   "cell_type": "markdown",
   "metadata": {
    "deletable": false,
    "editable": false,
    "nbgrader": {
     "cell_type": "markdown",
     "checksum": "4a482350c4c533e29035f72039d94aec",
     "grade": false,
     "grade_id": "cell-17b894a32de272cd",
     "locked": true,
     "schema_version": 3,
     "solution": false,
     "task": false
    }
   },
   "source": [
    "# Mutability and Modules\n",
    "\n",
    "In this assignment, you will design and implement a couple of mutable data structures and operations on them.\n",
    "\n",
    "## Problem 1\n",
    "\n",
    "Implement structures `IntShowable` and `FloatShowable` that satisfy the following signature. Use `string_of_int: int -> string` and `string_of_float: float -> string` for the corresponding `string_of_t` functions."
   ]
  },
  {
   "cell_type": "code",
   "execution_count": 2,
   "metadata": {
    "deletable": false,
    "editable": false,
    "nbgrader": {
     "cell_type": "code",
     "checksum": "d13973bede139512cdb7efc4f5050e5b",
     "grade": false,
     "grade_id": "cell-04b036908715fddb",
     "locked": true,
     "schema_version": 3,
     "solution": false,
     "task": false
    }
   },
   "outputs": [],
   "source": [
    "module type Showable = sig\n",
    "  type t\n",
    "  val string_of_t : t -> string\n",
    "end"
   ]
  },
  {
   "cell_type": "code",
   "execution_count": 3,
   "metadata": {
    "deletable": false,
    "nbgrader": {
     "cell_type": "code",
     "checksum": "027a1ddb4bf2ea2786028bc877812272",
     "grade": false,
     "grade_id": "cell-158d909bf026ab70",
     "locked": false,
     "schema_version": 3,
     "solution": true,
     "task": false
    }
   },
   "outputs": [
    {
     "data": {
      "text/plain": [
       "module IntShowable : sig type t = int val string_of_t : int -> string end\n"
      ]
     },
     "execution_count": 3,
     "metadata": {},
     "output_type": "execute_result"
    },
    {
     "data": {
      "text/plain": [
       "module FloatShowable :\n",
       "  sig type t = float val string_of_t : float -> string end\n"
      ]
     },
     "execution_count": 3,
     "metadata": {},
     "output_type": "execute_result"
    }
   ],
   "source": [
    "module IntShowable = struct\n",
    "    type t = int\n",
    "    let string_of_t x = string_of_int x\n",
    "end\n",
    "\n",
    "module FloatShowable = struct\n",
    "    type t = float\n",
    "    let string_of_t x = string_of_float x\n",
    "end"
   ]
  },
  {
   "cell_type": "code",
   "execution_count": 4,
   "metadata": {
    "deletable": false,
    "editable": false,
    "nbgrader": {
     "cell_type": "code",
     "checksum": "da9cbadfccb874f0ae17da450d049f99",
     "grade": true,
     "grade_id": "cell-e2c519b404ae59d8",
     "locked": true,
     "points": 15,
     "schema_version": 3,
     "solution": false,
     "task": false
    }
   },
   "outputs": [
    {
     "data": {
      "text/plain": [
       "- : unit = ()\n"
      ]
     },
     "execution_count": 4,
     "metadata": {},
     "output_type": "execute_result"
    }
   ],
   "source": [
    "assert (IntShowable.string_of_t 10 = \"10\");\n",
    "assert (FloatShowable.string_of_t 0.0 = \"0.\")"
   ]
  },
  {
   "cell_type": "markdown",
   "metadata": {
    "deletable": false,
    "editable": false,
    "nbgrader": {
     "cell_type": "markdown",
     "checksum": "dbfb8259fe213acac10bfc6a201a74b5",
     "grade": false,
     "grade_id": "cell-78af33faae62f0b2",
     "locked": true,
     "schema_version": 3,
     "solution": false,
     "task": false
    }
   },
   "source": [
    "## Problem 2\n",
    "\n",
    "Implement a functor \n",
    "\n",
    "```ocaml\n",
    "module MakeNode : \n",
    "  functor (C : Showable) -> \n",
    "    DoublyLinkedListNode with type content = C.t\n",
    "``` \n",
    "\n",
    "where `DoublyLinkedListNode` is the module type:"
   ]
  },
  {
   "cell_type": "code",
   "execution_count": 5,
   "metadata": {
    "deletable": false,
    "editable": false,
    "nbgrader": {
     "cell_type": "code",
     "checksum": "3c70da653bf5de2f9f3816eb089a0a21",
     "grade": false,
     "grade_id": "cell-510c52c519be0f60",
     "locked": true,
     "schema_version": 3,
     "solution": false,
     "task": false
    }
   },
   "outputs": [
    {
     "data": {
      "text/plain": [
       "module type DoublyLinkedListNode =\n",
       "  sig\n",
       "    type t\n",
       "    type content\n",
       "    val create : content -> t\n",
       "    val get_next : t -> t option\n",
       "    val get_prev : t -> t option\n",
       "    val get_content : t -> content\n",
       "    val set_next : t -> t option -> unit\n",
       "    val set_prev : t -> t option -> unit\n",
       "    val string_of_content : content -> string\n",
       "  end\n"
      ]
     },
     "execution_count": 5,
     "metadata": {},
     "output_type": "execute_result"
    }
   ],
   "source": [
    "module type DoublyLinkedListNode = sig\n",
    "  type t\n",
    "  (** The type of doubly linked list node *)\n",
    "  \n",
    "  type content\n",
    "  (** The type of content stored in the doubly linked list node *)\n",
    "\n",
    "  val create : content -> t \n",
    "  (** create a new doubly linked list node with [content] as the content. \n",
    "      The next and previous nodes are [None]. *)\n",
    "  \n",
    "  val get_next : t -> t option\n",
    "  (** [get_next t] returns [Some t'] if [t'] is the successor node of [t]. \n",
    "      If [t] has no successor, then return [None] *)\n",
    "      \n",
    "  val get_prev : t -> t option\n",
    "  (** [get_prev t] returns [Some t'] if [t'] is the predecessor node of [t]. \n",
    "      If [t] has no predecessor, then return [None] *)\n",
    "      \n",
    "  val get_content : t -> content\n",
    "  (** [content t] returns the content [c] of node [t] *)\n",
    "      \n",
    "  val set_next : t -> t option -> unit\n",
    "  (** [set_next t t'] updates the next node of [t] to be [t'] *)\n",
    "  \n",
    "  val set_prev : t -> t option -> unit\n",
    "  (** [set_prev t t'] updates the prev node of [t] to be [t'] *)\n",
    "  \n",
    "  val string_of_content : content -> string\n",
    "  (** [string_of_content c] returns the string form of content [c] *)\n",
    "end"
   ]
  },
  {
   "cell_type": "code",
   "execution_count": 6,
   "metadata": {
    "deletable": false,
    "nbgrader": {
     "cell_type": "code",
     "checksum": "6bf3561d92a495c66e37c2fdf3535035",
     "grade": false,
     "grade_id": "cell-ef73360426263f29",
     "locked": false,
     "schema_version": 3,
     "solution": true,
     "task": false
    }
   },
   "outputs": [
    {
     "data": {
      "text/plain": [
       "type 'a node = {\n",
       "  value : 'a;\n",
       "  mutable next : 'a node option;\n",
       "  mutable prev : 'a node option;\n",
       "}\n"
      ]
     },
     "execution_count": 6,
     "metadata": {},
     "output_type": "execute_result"
    },
    {
     "data": {
      "text/plain": [
       "type 'a dllist = 'a node option ref\n"
      ]
     },
     "execution_count": 6,
     "metadata": {},
     "output_type": "execute_result"
    },
    {
     "data": {
      "text/plain": [
       "module MakeNode :\n",
       "  functor (C : Showable) ->\n",
       "    sig\n",
       "      type t\n",
       "      type content = C.t\n",
       "      val create : content -> t\n",
       "      val get_next : t -> t option\n",
       "      val get_prev : t -> t option\n",
       "      val get_content : t -> content\n",
       "      val set_next : t -> t option -> unit\n",
       "      val set_prev : t -> t option -> unit\n",
       "      val string_of_content : content -> string\n",
       "    end\n"
      ]
     },
     "execution_count": 6,
     "metadata": {},
     "output_type": "execute_result"
    }
   ],
   "source": [
    "(* The type of elements *)\n",
    "type 'a node = { \n",
    "  value : 'a;\n",
    "  mutable next : 'a node option;\n",
    "  mutable prev : 'a node option\n",
    "}\n",
    "\n",
    "(* The type of list *)\n",
    "type 'a dllist = 'a node option ref\n",
    "\n",
    "\n",
    "module MakeNode (C : Showable) : (DoublyLinkedListNode with type content = C.t) = struct\n",
    "   (* include DoublyLinkedListNode *)\n",
    "    type content = C.t\n",
    "    type t = C.t node \n",
    "    let create (x:content):t ={value=x;next=None;prev=None}\n",
    "    let get_next (x:t):(t option) =x.next\n",
    "    let get_prev (x:t):(t option) =x.prev\n",
    "    let get_content (x:t):content = x.value\n",
    "    let set_next (x:t) (y:t option)  = x.next <- y\n",
    "    let set_prev (x:t) (y:t option)  = x.prev <- y\n",
    "    let string_of_content (z:content) = C.string_of_t z \n",
    "end"
   ]
  },
  {
   "cell_type": "code",
   "execution_count": 7,
   "metadata": {
    "deletable": false,
    "editable": false,
    "nbgrader": {
     "cell_type": "code",
     "checksum": "691f56b9a1cd9b97ffd012a280e5a7f1",
     "grade": false,
     "grade_id": "cell-a571bf541c8042c1",
     "locked": true,
     "schema_version": 3,
     "solution": false,
     "task": false
    }
   },
   "outputs": [
    {
     "data": {
      "text/plain": [
       "module IntNode :\n",
       "  sig\n",
       "    type t = MakeNode(IntShowable).t\n",
       "    type content = IntShowable.t\n",
       "    val create : content -> t\n",
       "    val get_next : t -> t option\n",
       "    val get_prev : t -> t option\n",
       "    val get_content : t -> content\n",
       "    val set_next : t -> t option -> unit\n",
       "    val set_prev : t -> t option -> unit\n",
       "    val string_of_content : content -> string\n",
       "  end\n"
      ]
     },
     "execution_count": 7,
     "metadata": {},
     "output_type": "execute_result"
    }
   ],
   "source": [
    "module IntNode = MakeNode(IntShowable)"
   ]
  },
  {
   "cell_type": "code",
   "execution_count": 8,
   "metadata": {
    "deletable": false,
    "editable": false,
    "nbgrader": {
     "cell_type": "code",
     "checksum": "26b86a2977472f650963e799ef293f65",
     "grade": true,
     "grade_id": "cell-33796bd0b9bbeaaa",
     "locked": true,
     "points": 15,
     "schema_version": 3,
     "solution": false,
     "task": false
    }
   },
   "outputs": [
    {
     "data": {
      "text/plain": [
       "- : unit = ()\n"
      ]
     },
     "execution_count": 8,
     "metadata": {},
     "output_type": "execute_result"
    }
   ],
   "source": [
    "let open IntNode in \n",
    "let i1 = create 1 in\n",
    "assert (get_content i1 = 1)"
   ]
  },
  {
   "cell_type": "code",
   "execution_count": 9,
   "metadata": {
    "deletable": false,
    "editable": false,
    "nbgrader": {
     "cell_type": "code",
     "checksum": "c77a86f4162db16876cab3956f8dfbad",
     "grade": true,
     "grade_id": "cell-9ac4ed1728b424da",
     "locked": true,
     "points": 15,
     "schema_version": 3,
     "solution": false,
     "task": false
    }
   },
   "outputs": [
    {
     "data": {
      "text/plain": [
       "- : unit = ()\n"
      ]
     },
     "execution_count": 9,
     "metadata": {},
     "output_type": "execute_result"
    }
   ],
   "source": [
    "let open IntNode in \n",
    "let i1,i2,i3 = create 1, create 2, create 3 in\n",
    "set_next i1 @@ Some i2;\n",
    "set_next i2 @@ Some i3;\n",
    "set_prev i2 @@ Some i1;\n",
    "set_prev i3 @@ Some i2;\n",
    "let _ = assert (match get_next i1 with None -> false | Some i2 -> get_content i2 = 2) in\n",
    "()"
   ]
  },
  {
   "cell_type": "markdown",
   "metadata": {
    "deletable": false,
    "editable": false,
    "nbgrader": {
     "cell_type": "markdown",
     "checksum": "cc0571ca6839637ff15d9b26d5f62911",
     "grade": false,
     "grade_id": "cell-6c01cad3824f060d",
     "locked": true,
     "schema_version": 3,
     "solution": false,
     "task": false
    }
   },
   "source": [
    "## Problem 3\n",
    "\n",
    "Implement a functor \n",
    "\n",
    "```ocaml \n",
    "module MakeList : \n",
    "  functor (N : DoublyLinkedListNode) -> \n",
    "    DoublyLinkedList with type node = N.t \n",
    "                      and type content = N.content\n",
    "```\n",
    "\n",
    "where the module type `DoublyLinkedList` is defined as follows:\n"
   ]
  },
  {
   "cell_type": "code",
   "execution_count": 10,
   "metadata": {
    "deletable": false,
    "editable": false,
    "nbgrader": {
     "cell_type": "code",
     "checksum": "4e6999effd50ac478c9925c05b267ecc",
     "grade": false,
     "grade_id": "cell-672e858c8c679b2e",
     "locked": true,
     "schema_version": 3,
     "solution": false,
     "task": false
    }
   },
   "outputs": [
    {
     "data": {
      "text/plain": [
       "module type DoublyLinkedList =\n",
       "  sig\n",
       "    type t\n",
       "    type node\n",
       "    type content\n",
       "    val create : unit -> t\n",
       "    val assign : t -> node option -> unit\n",
       "    val t_of_list : content list -> t\n",
       "    val is_empty : t -> bool\n",
       "    val first : t -> node option\n",
       "    val insert_first : t -> content -> node\n",
       "    val insert_after : node -> content -> node\n",
       "    val remove : t -> node -> unit\n",
       "    val iter : t -> (content -> unit) -> unit\n",
       "    val iter_node : t -> (node -> unit) -> unit\n",
       "    val string_of_t : t -> string\n",
       "  end\n"
      ]
     },
     "execution_count": 10,
     "metadata": {},
     "output_type": "execute_result"
    }
   ],
   "source": [
    "module type DoublyLinkedList = sig\n",
    "  type t \n",
    "  (** The type of doubly linked list *)\n",
    "  \n",
    "  type node\n",
    "  (** The type of a doubly linked list node *)\n",
    "  \n",
    "  type content\n",
    "  (** The type of content stored in the [node] of doubly linked list *)\n",
    "    \n",
    "  val create : unit -> t \n",
    "  (** Creates a new doubly linked list *)\n",
    "  \n",
    "  val assign : t -> node option -> unit\n",
    "  (** [assign t n] makes the node as the head node of the list. \n",
    "      The original contents of the list are dropped. *)\n",
    "  \n",
    "  val t_of_list : content list -> t\n",
    "  (** [t_of_list l] returns a new doubly linked list with the list of \n",
    "      elements from the list [l]. *)\n",
    "  \n",
    "  val is_empty : t -> bool\n",
    "  (** [is_empty l] return true if [t] is empty *)\n",
    "  \n",
    "  val first : t -> node option\n",
    "  (** [first l] return [Some n] if the list is non-empty. Otherwise, return [None] *)\n",
    "  \n",
    "  val insert_first : t -> content -> node\n",
    "  (** [insert_first l c] inserts a new doubly linked list node [n] as the first \n",
    "      node in [l] with [c] as the content. Returns [n]. *)\n",
    "      \n",
    "  val insert_after : node -> content -> node\n",
    "  (** [insert_after n c] inserts a new node [n'] with content [c] after the node [n].\n",
    "      Returns [n']. *)\n",
    "  \n",
    "  val remove : t -> node -> unit\n",
    "  (** [remove l n] removes the node [n] from the list [l] *)\n",
    "  \n",
    "  val iter : t -> (content -> unit) -> unit\n",
    "  (** [iter l f] applies [f] to each element of the list in the list order. *)\n",
    "  \n",
    "  val iter_node : t -> (node -> unit) -> unit\n",
    "  (** [iter_node l f] applies [f] to each node of the list in the list order. \n",
    "      [f] may delete the current node or insert a new node after the current node. \n",
    "      In either case, [iter_node] is applied to the rest of the original list. *)\n",
    "      \n",
    "  val string_of_t : t -> string\n",
    "  (** [string_of_t (t_of_list [1;2;3])] returns the string \"[1->2->3]\".\n",
    "      [string_of_t (t_of_list [])] returns the string \"[]\" *)\n",
    "end"
   ]
  },
  {
   "cell_type": "code",
   "execution_count": 11,
   "metadata": {
    "deletable": false,
    "nbgrader": {
     "cell_type": "code",
     "checksum": "6cb459064b81afc6ae33e8ec4f96af0d",
     "grade": false,
     "grade_id": "cell-37a66fdc4f8f3b4b",
     "locked": false,
     "schema_version": 3,
     "solution": true,
     "task": false
    }
   },
   "outputs": [
    {
     "data": {
      "text/plain": [
       "type 'a node = {\n",
       "  value : 'a;\n",
       "  mutable next : 'a node option;\n",
       "  mutable prev : 'a node option;\n",
       "}\n"
      ]
     },
     "execution_count": 11,
     "metadata": {},
     "output_type": "execute_result"
    },
    {
     "data": {
      "text/plain": [
       "type 'a dllist = 'a node option ref\n"
      ]
     },
     "execution_count": 11,
     "metadata": {},
     "output_type": "execute_result"
    },
    {
     "data": {
      "text/plain": [
       "module MakeList :\n",
       "  functor (N : DoublyLinkedListNode) ->\n",
       "    sig\n",
       "      type t\n",
       "      type node = N.t\n",
       "      type content = N.content\n",
       "      val create : unit -> t\n",
       "      val assign : t -> node option -> unit\n",
       "      val t_of_list : content list -> t\n",
       "      val is_empty : t -> bool\n",
       "      val first : t -> node option\n",
       "      val insert_first : t -> content -> node\n",
       "      val insert_after : node -> content -> node\n",
       "      val remove : t -> node -> unit\n",
       "      val iter : t -> (content -> unit) -> unit\n",
       "      val iter_node : t -> (node -> unit) -> unit\n",
       "      val string_of_t : t -> string\n",
       "    end\n"
      ]
     },
     "execution_count": 11,
     "metadata": {},
     "output_type": "execute_result"
    }
   ],
   "source": [
    "type 'a node = { \n",
    "  value : 'a;\n",
    "  mutable next : 'a node option;\n",
    "  mutable prev : 'a node option\n",
    "}\n",
    "\n",
    "(* The type of list *)\n",
    "type 'a dllist = 'a node option ref\n",
    "\n",
    "\n",
    "module MakeList (N : DoublyLinkedListNode) : DoublyLinkedList with type content = N.content \n",
    "                                                               and type node = N.t = \n",
    "struct\n",
    "\n",
    "type content = N.content\n",
    "type node = N.t\n",
    "type t = node option ref\n",
    "\n",
    "\n",
    "\n",
    "let create ():t  = ref None\n",
    "    \n",
    "    let assign (l:t) (n:node option) = l:=  n\n",
    "    \n",
    "    let insert_after (n:node) (v:content) =\n",
    "      let n' = N.create v in\n",
    "      begin match N.get_next n with\n",
    "      | Some old_next -> N.set_prev n' (Some n);N.set_next n' (N.get_next n);N.set_next old_next (Some n')\n",
    "      | None -> N.set_prev n' (Some n);N.set_next n' (N.get_next n);\n",
    "      end;\n",
    "      N.set_next n (Some n');\n",
    "      n'\n",
    "  \n",
    "  \n",
    "  \n",
    "    let insert_first (l:t) (c:content) = \n",
    "        let n = N.create c in \n",
    "        begin match !l with\n",
    "        |Some old_first ->N.set_next n (!l); N.set_prev old_first (Some n);N.set_next n (Some old_first)\n",
    "        |None ->  N.set_next n (!l)\n",
    "        end;\n",
    "        N.set_next n (!l);\n",
    "        l := Some n;\n",
    "        n\n",
    "        \n",
    "    let rec t_of_list' (l:content list)  (n:node) (l':t) = \n",
    "        (match l with \n",
    "        |[]->l'\n",
    "        |hd::tl ->  t_of_list' tl  (insert_after n hd) l'\n",
    "        )\n",
    "    \n",
    "    let t_of_list (l:content list)  = let l' = create()  in\n",
    "        (match l with \n",
    "        |[] -> l'\n",
    "        |hd::tl -> t_of_list' tl  (insert_first l' hd ) l'\n",
    "        )\n",
    "        \n",
    "    let is_empty (l:t) = !l = None \n",
    "    \n",
    "    \n",
    "    let first (l:t)    = !l\n",
    "\n",
    "    let remove (l:t) (n:node) = \n",
    "        begin match N.get_prev n with\n",
    "        | Some prev ->  N.set_next prev (N.get_next n)\n",
    "        | None -> l := N.get_next n\n",
    "        end;\n",
    "        begin match N.get_next n with\n",
    "        | Some next -> N.set_prev next (N.get_prev n)\n",
    "        | None -> ()\n",
    "        end;\n",
    "        N.set_prev n None;\n",
    "        N.set_next n None\n",
    "        \n",
    "    let iter (l:t) (f:content->unit) = \n",
    "        let rec loop l' = match l' with\n",
    "        | None -> ()\n",
    "        | Some el -> f (N.get_content el); loop (N.get_next el)\n",
    "      in\n",
    "      loop !l\n",
    "    \n",
    "    let iter_node  (l:t) (f:node->unit) = \n",
    "        let rec loop l' = match l' with \n",
    "        |None -> ()\n",
    "        |Some n -> if N.get_next n = None then f n else f n ;loop (N.get_next n)\n",
    "        in\n",
    "        loop !l\n",
    "        \n",
    "        \n",
    "        \n",
    "        \n",
    "    let  string_of_t (l:t) = \n",
    "        let rec loop  acc l' = match l' with\n",
    "        |None -> (acc ^ \"]\") \n",
    "        |Some n -> if ((N.get_next n)=None) then (acc ^ (N.string_of_content (N.get_content n)) ^ \"]\" )\n",
    "            else  loop  (acc ^ (N.string_of_content (N.get_content n)) ^ \"->\" )   (N.get_next n)    \n",
    "        in\n",
    "        loop \"[\" !l\n",
    "    \n",
    "\n",
    "end\n",
    "\n"
   ]
  },
  {
   "cell_type": "code",
   "execution_count": 12,
   "metadata": {
    "deletable": false,
    "editable": false,
    "nbgrader": {
     "cell_type": "code",
     "checksum": "27f3e11427fe34a0f32eea505e69501a",
     "grade": true,
     "grade_id": "cell-13adb3683de17ec0",
     "locked": true,
     "points": 10,
     "schema_version": 3,
     "solution": false,
     "task": false
    }
   },
   "outputs": [
    {
     "data": {
      "text/plain": [
       "- : unit = ()\n"
      ]
     },
     "execution_count": 12,
     "metadata": {},
     "output_type": "execute_result"
    }
   ],
   "source": [
    "let module L = MakeList(IntNode) in\n",
    "\n",
    "let open L in\n",
    "assert (is_empty (t_of_list []));\n",
    "let l = t_of_list [1;2;3] in\n",
    "assert (not @@ is_empty l);\n",
    "let n = match first l with \n",
    "| None -> failwith \"impossible\" \n",
    "| Some n -> n\n",
    "in\n",
    "assert (1 = IntNode.get_content n);\n",
    "L.(assign l (first (t_of_list [4;5;6])));\n",
    "match first l with\n",
    "| None -> failwith \"impossible\"\n",
    "| Some n -> assert (IntNode.get_content n = 4)\n"
   ]
  },
  {
   "cell_type": "code",
   "execution_count": 13,
   "metadata": {
    "deletable": false,
    "editable": false,
    "nbgrader": {
     "cell_type": "code",
     "checksum": "9f83069f1fa293a02bd885f73aa2e0e6",
     "grade": true,
     "grade_id": "cell-77b4b373e05637e5",
     "locked": true,
     "points": 10,
     "schema_version": 3,
     "solution": false,
     "task": false
    }
   },
   "outputs": [
    {
     "data": {
      "text/plain": [
       "- : unit = ()\n"
      ]
     },
     "execution_count": 13,
     "metadata": {},
     "output_type": "execute_result"
    }
   ],
   "source": [
    "let module L = MakeList(IntNode) in\n",
    "\n",
    "let open L in\n",
    "let l = t_of_list [1;2;3] in\n",
    "let n1 = match first l with\n",
    "  | Some n1 -> n1\n",
    "  | None -> failwith \"impossible\"\n",
    "in\n",
    "let n2 = match IntNode.get_next n1 with\n",
    "  | Some n2 -> n2\n",
    "  | None -> failwith \"impossible\"\n",
    "in\n",
    "remove l n2;\n",
    "let n3 = match IntNode.get_next n1 with\n",
    "  | Some n3 -> n3\n",
    "  | None -> failwith \"impossible\"\n",
    "in\n",
    "let _ = assert (IntNode.get_content n3 = 3) in\n",
    "remove l n1;\n",
    "match first l with\n",
    "| None -> failwith \"impossible\"\n",
    "| Some n3 -> assert (IntNode.get_content n3 = 3)\n"
   ]
  },
  {
   "cell_type": "code",
   "execution_count": 14,
   "metadata": {
    "deletable": false,
    "editable": false,
    "nbgrader": {
     "cell_type": "code",
     "checksum": "d4e0f34265747bbb7d1d43f6a359e9a8",
     "grade": true,
     "grade_id": "cell-ee91aa7878aa72ef",
     "locked": true,
     "points": 15,
     "schema_version": 3,
     "solution": false,
     "task": false
    }
   },
   "outputs": [
    {
     "data": {
      "text/plain": [
       "- : unit = ()\n"
      ]
     },
     "execution_count": 14,
     "metadata": {},
     "output_type": "execute_result"
    }
   ],
   "source": [
    "let module L = MakeList(IntNode) in\n",
    "let open L in\n",
    "let l = t_of_list [1;2;3] in\n",
    "let s = ref 0 in\n",
    "iter l (fun c -> s := !s + c);\n",
    "assert (!s = 6);\n",
    "iter_node l (fun n -> if IntNode.get_content n mod 2 == 0 then remove l n);\n",
    "let n1 = match first l with\n",
    "  | None -> failwith \"impossible\"\n",
    "  | Some n -> n\n",
    "in\n",
    "assert (IntNode.get_content n1 = 1)\n"
   ]
  },
  {
   "cell_type": "markdown",
   "metadata": {
    "deletable": false,
    "editable": false,
    "nbgrader": {
     "cell_type": "markdown",
     "checksum": "31709c08fbc8b37c22fd68c9011aab93",
     "grade": false,
     "grade_id": "cell-9d4be5ce03913bc2",
     "locked": true,
     "schema_version": 3,
     "solution": false,
     "task": false
    }
   },
   "source": [
    "## Problem 4\n",
    "\n",
    "Implement the functor\n",
    "\n",
    "```ocaml\n",
    "module MakeDllFunctions :\n",
    "  functor (N : DoublyLinkedListNode) ->\n",
    "    Dll_functions with type node = N.t \n",
    "                   and type content = N.content \n",
    "                   and type dll = MakeList(N).t\n",
    "```\n",
    "\n",
    "where the module type `Dll_functions` is:"
   ]
  },
  {
   "cell_type": "code",
   "execution_count": 15,
   "metadata": {
    "deletable": false,
    "editable": false,
    "nbgrader": {
     "cell_type": "code",
     "checksum": "c17f3cf2c0f4b98e7192386a5565e343",
     "grade": false,
     "grade_id": "cell-5687e58e44409adf",
     "locked": true,
     "schema_version": 3,
     "solution": false,
     "task": false
    }
   },
   "outputs": [
    {
     "data": {
      "text/plain": [
       "module type Dll_functions =\n",
       "  sig\n",
       "    type dll\n",
       "    type node\n",
       "    type content\n",
       "    val length : dll -> int\n",
       "    val duplicate : dll -> unit\n",
       "    val rotate : dll -> int -> unit\n",
       "    val reverse : dll -> unit\n",
       "  end\n"
      ]
     },
     "execution_count": 15,
     "metadata": {},
     "output_type": "execute_result"
    }
   ],
   "source": [
    "module type Dll_functions = sig\n",
    "  type dll\n",
    "  (** The type of doubly linked list *)\n",
    "  \n",
    "  type node\n",
    "  (** The type of doubly linked list node *)\n",
    "  \n",
    "  type content\n",
    "  (** The type of doubly linked list content *)\n",
    "\n",
    "  val length : dll -> int\n",
    "  (** Returns the length of the list. \n",
    "      Use [DLL.iter] to implement it. *)\n",
    "  \n",
    "  val duplicate : dll -> unit\n",
    "  (** Given a doubly linked list [l] = [1->2], [duplicate l] returns [1->1->2->2]. \n",
    "      Use [DLL.iter_node] to implement it. *)\n",
    "        \n",
    "  val rotate : dll -> int -> unit\n",
    "  (** [rotate l n] rotates the list by [n] nodes. \n",
    "      If the list is [1->2->3->4->5], then [rotate l 0] will not modify the list. \n",
    "      [rotate l 2] will modify the list to be [3->4->5->1->2]. \n",
    "      Assume that [0 <= n < length l]. *)\n",
    "  \n",
    "   val reverse : dll -> unit\n",
    "   (** [reverse l] reverses the list *)\n",
    "end"
   ]
  },
  {
   "cell_type": "code",
   "execution_count": 16,
   "metadata": {
    "deletable": false,
    "nbgrader": {
     "cell_type": "code",
     "checksum": "6c0c2ae71c678c1c004c342c8fdcc592",
     "grade": false,
     "grade_id": "cell-41159f1b40dac637",
     "locked": false,
     "schema_version": 3,
     "solution": true,
     "task": false
    }
   },
   "outputs": [
    {
     "data": {
      "text/plain": [
       "module MakeDllFunctions :\n",
       "  functor (N : DoublyLinkedListNode) ->\n",
       "    sig\n",
       "      type dll = MakeList(N).t\n",
       "      type node = N.t\n",
       "      type content = N.content\n",
       "      val length : dll -> int\n",
       "      val duplicate : dll -> unit\n",
       "      val rotate : dll -> int -> unit\n",
       "      val reverse : dll -> unit\n",
       "    end\n"
      ]
     },
     "execution_count": 16,
     "metadata": {},
     "output_type": "execute_result"
    }
   ],
   "source": [
    "module MakeDllFunctions (N : DoublyLinkedListNode) \n",
    "  : Dll_functions with type node = N.t \n",
    "                   and type content = N.content \n",
    "                   and type dll = MakeList(N).t = struct\n",
    "                   \n",
    "    module X = MakeList(N) \n",
    "                   \n",
    "    type node = N.t\n",
    "   \n",
    "    type content = N.content\n",
    "   \n",
    "    type dll = X.t\n",
    "    \n",
    "    let fununit x = ()\n",
    "    \n",
    "   \n",
    "    let length (l:dll) =let r = ref 0 in X.iter l (fun n-> r:=!r+1);!r\n",
    "   \n",
    "    let duplicate l = X.assign l  (X.first( X.t_of_list ( let l' =  ref [] in X.iter_node l \n",
    "       (fun n -> l' := !l' @ [N.get_content (n)] @ [N.get_content (n)]  ) ; !l' ) )  )\n",
    "   \n",
    " (*  let duplicate (l:dll) = let (l':dll) = l in\n",
    "        X.iter_node l' (fun n -> X.insert_after n (N.get_content(n))  )  *)\n",
    "        \n",
    "  (*  let reverse l = X.t_of_list (let l' = [] in X.iter_node l\n",
    "            (fun n ->  l' @ [(N.get_content n)]   )  )    *)\n",
    "            \n",
    "    let reverse l = X.assign l (X.first(X.t_of_list ( let l' = ref [] in X.iter_node l\n",
    "            (fun n -> l' :=  [(N.get_content n)] @ !l'  ) ; !l'  )   )  )\n",
    "        \n",
    "  (*  let reverse l = let (l':dll) = (X.create()) in\n",
    "        X.iter_node l (fun n -> X.insert_first l' (N.get_content(n)))   *)\n",
    "        \n",
    "    let rotate l x =  X.assign l  (X.first(X.t_of_list (let l1'= ref [] in \n",
    "            let l2' = ref [] in let r = ref 0 in X.iter_node l \n",
    "              (fun n-> r:=!r+1;if !r<=x then l1' := !l1' @ [(N.get_content n)] \n",
    "              else  l2' := !l2' @ [(N.get_content n)] ) ; l1' := !l2' @ !l1' ;!l1') ) )\n",
    "        \n",
    "    \n",
    "                   \n",
    "                   \n",
    "end"
   ]
  },
  {
   "cell_type": "code",
   "execution_count": 17,
   "metadata": {
    "deletable": false,
    "editable": false,
    "nbgrader": {
     "cell_type": "code",
     "checksum": "a50775d3add8780951c48d089f30d83c",
     "grade": true,
     "grade_id": "cell-91ca747651779274",
     "locked": true,
     "points": 10,
     "schema_version": 3,
     "solution": false,
     "task": false
    }
   },
   "outputs": [
    {
     "data": {
      "text/plain": [
       "- : unit = ()\n"
      ]
     },
     "execution_count": 17,
     "metadata": {},
     "output_type": "execute_result"
    }
   ],
   "source": [
    "let module F = MakeDllFunctions (IntNode) in\n",
    "let module M = MakeList(IntNode) in\n",
    "let open M in \n",
    "let l = t_of_list [1;2;3] in\n",
    "let _ = assert (F.length l = 3) in\n",
    "F.duplicate l;\n",
    "let _ = assert (F.length l = 6) in\n",
    "()"
   ]
  },
  {
   "cell_type": "code",
   "execution_count": 18,
   "metadata": {
    "deletable": false,
    "editable": false,
    "nbgrader": {
     "cell_type": "code",
     "checksum": "5050e8c6cac0f952c7dab6ba935d18aa",
     "grade": true,
     "grade_id": "cell-dced779ae7b1deac",
     "locked": true,
     "points": 10,
     "schema_version": 3,
     "solution": false,
     "task": false
    }
   },
   "outputs": [
    {
     "data": {
      "text/plain": [
       "- : unit = ()\n"
      ]
     },
     "execution_count": 18,
     "metadata": {},
     "output_type": "execute_result"
    }
   ],
   "source": [
    "let module F = MakeDllFunctions (IntNode) in\n",
    "let module M = MakeList(IntNode) in\n",
    "let open M in \n",
    "let l = t_of_list [1;2;3] in\n",
    "let _ = assert (F.length l = 3) in\n",
    "F.duplicate l;\n",
    "let _ = assert (F.length l = 6) in\n",
    "let _ = assert (\"[1->1->2->2->3->3]\" = string_of_t l) in\n",
    "F.rotate l 3;\n",
    "let _ = assert (\"[2->3->3->1->1->2]\" = string_of_t l) in\n",
    "F.rotate l 0;\n",
    "let _ = assert (\"[2->3->3->1->1->2]\" = string_of_t l) in\n",
    "let l = t_of_list [] in\n",
    "F.rotate l 0;\n",
    "let _ = assert (\"[]\" = string_of_t l) in\n",
    "()"
   ]
  },
  {
   "cell_type": "code",
   "execution_count": 19,
   "metadata": {
    "deletable": false,
    "editable": false,
    "nbgrader": {
     "cell_type": "code",
     "checksum": "43006de3b66ae302ed776fd7d13547bf",
     "grade": true,
     "grade_id": "cell-2efa4c8d8f3af862",
     "locked": true,
     "points": 10,
     "schema_version": 3,
     "solution": false,
     "task": false
    }
   },
   "outputs": [
    {
     "data": {
      "text/plain": [
       "- : unit = ()\n"
      ]
     },
     "execution_count": 19,
     "metadata": {},
     "output_type": "execute_result"
    }
   ],
   "source": [
    "let module F = MakeDllFunctions (IntNode) in\n",
    "let module M = MakeList(IntNode) in\n",
    "let open M in \n",
    "let l = t_of_list [1;2;3] in\n",
    "F.reverse l;\n",
    "assert (\"[3->2->1]\" = string_of_t l)\n"
   ]
  },
  {
   "cell_type": "markdown",
   "metadata": {
    "deletable": false,
    "editable": false,
    "nbgrader": {
     "cell_type": "markdown",
     "checksum": "964df9bf7008678eaf3e11e9b0525ffb",
     "grade": false,
     "grade_id": "cell-70131cfbcb764598",
     "locked": true,
     "schema_version": 3,
     "solution": false,
     "task": false
    }
   },
   "source": [
    "## Hash Table\n",
    "\n",
    "Implement a hash table using [separate chaining](https://en.wikipedia.org/wiki/Hash_table#Separate_chaining_with_linked_lists). Use an OCaml array for the array of buckets. The documentation of OCaml arrays is found in the [OCaml manual](https://caml.inria.fr/pub/docs/manual-ocaml/libref/Array.html).\n",
    "\n",
    "Each element in the array is a doubly linked list in order to allow chaining. Use your doubly linked list that you have implemented earlier. The hash table will be implemented as a functor that accepts two module arguments. The first one defines the type of the key, size of the array and the hash function. The signature of that module is:"
   ]
  },
  {
   "cell_type": "code",
   "execution_count": 20,
   "metadata": {
    "deletable": false,
    "editable": false,
    "nbgrader": {
     "cell_type": "code",
     "checksum": "1988d5e02748d47ea008107122c375b1",
     "grade": false,
     "grade_id": "cell-e3f57903cf59d354",
     "locked": true,
     "schema_version": 3,
     "solution": false,
     "task": false
    }
   },
   "outputs": [
    {
     "data": {
      "text/plain": [
       "module type Key =\n",
       "  sig\n",
       "    type t\n",
       "    val num_buckets : int\n",
       "    val hash : t -> int\n",
       "    val string_of_t : t -> string\n",
       "  end\n"
      ]
     },
     "execution_count": 20,
     "metadata": {},
     "output_type": "execute_result"
    }
   ],
   "source": [
    "module type Key = sig\n",
    "  type t\n",
    "  (** The type of key *)\n",
    "  \n",
    "  val num_buckets : int\n",
    "  (** The number of buckets i.e, the size of the buckets array *)\n",
    "  \n",
    "  val hash : t -> int\n",
    "  (** Hashes the key to an integer between [0, num_buckets) *)\n",
    "  \n",
    "  val string_of_t : t -> string\n",
    "  (** Returns the string representation of key *)\n",
    "end"
   ]
  },
  {
   "cell_type": "markdown",
   "metadata": {
    "deletable": false,
    "editable": false,
    "nbgrader": {
     "cell_type": "markdown",
     "checksum": "2b16338346a9fa3821a5d5c66b49a86e",
     "grade": false,
     "grade_id": "cell-5de8d702a916edbf",
     "locked": true,
     "schema_version": 3,
     "solution": false,
     "task": false
    }
   },
   "source": [
    "The second functor argument defines the type of content and its signature is `Showable` that we had defined at the beginning of this assignment. \n",
    "\n",
    "The signature of the `Hash_table` module is:"
   ]
  },
  {
   "cell_type": "code",
   "execution_count": 21,
   "metadata": {
    "deletable": false,
    "editable": false,
    "nbgrader": {
     "cell_type": "code",
     "checksum": "f2f0b8338f1f33819e4053f3f7c64b0f",
     "grade": false,
     "grade_id": "cell-9c0a1c90dbc461cf",
     "locked": true,
     "schema_version": 3,
     "solution": false,
     "task": false
    }
   },
   "outputs": [
    {
     "data": {
      "text/plain": [
       "module type Hash_table =\n",
       "  sig\n",
       "    type key\n",
       "    type content\n",
       "    type t\n",
       "    val create : unit -> t\n",
       "    val put : t -> key -> content -> unit\n",
       "    val get : t -> key -> content option\n",
       "    val remove : t -> key -> unit\n",
       "    val length : t -> int\n",
       "    val string_of_t : t -> string\n",
       "    val chain_length : t -> int -> int\n",
       "  end\n"
      ]
     },
     "execution_count": 21,
     "metadata": {},
     "output_type": "execute_result"
    }
   ],
   "source": [
    "module type Hash_table = sig\n",
    "  type key\n",
    "  (** The type of key *)\n",
    "  \n",
    "  type content\n",
    "  (** The type of value *)\n",
    "  \n",
    "  type t\n",
    "  (** The type of the hash table *)\n",
    "  \n",
    "  val create : unit -> t\n",
    "  (** Creates a new hash table *)\n",
    "  \n",
    "  val put :  t -> key -> content -> unit\n",
    "  (** [put h k v] associates the key [k] with value [v] in the hash table [h]. \n",
    "      If the binding for [k] already exists, overwrite it. *)\n",
    "\n",
    "  val get : t -> key -> content option\n",
    "  (** [get h k] returns [Some v], where [v] is the value associated with the \n",
    "      key [k] in the hash table [h]. Returns [None] if the [k] is not bound in [h]. *)\n",
    "      \n",
    "  val remove : t -> key -> unit\n",
    "  (** [remove h k] removes the association for key [k] from the hash table [h] if it exists *)\n",
    "  \n",
    "  val length : t -> int\n",
    "  (** Return the number of key-value pairs in the hash table *)\n",
    "  \n",
    "  val string_of_t : t -> string\n",
    "  (** Returns a string version of the hash table. Can be in any format. Only for debugging. *)\n",
    "  \n",
    "  val chain_length : t -> int -> int\n",
    "  (** [chain_length h bucket] returns the length of the doubly linked list \n",
    "      at the index [bucket] in the underlying array. \n",
    "      Assume that [0 <= bucket < length(bucket_array)] *)\n",
    "end"
   ]
  },
  {
   "cell_type": "markdown",
   "metadata": {
    "deletable": false,
    "editable": false,
    "nbgrader": {
     "cell_type": "markdown",
     "checksum": "6fb9a475f69e81b1e508c75a177bac8c",
     "grade": false,
     "grade_id": "cell-2ef6dc2adae3d2e7",
     "locked": true,
     "schema_version": 3,
     "solution": false,
     "task": false
    }
   },
   "source": [
    "## Problem 5\n",
    "\n",
    "Implement the functor \n",
    "\n",
    "```ocaml\n",
    "module Make_hash_table :\n",
    "  functor (K : Key) (C : Showable) ->\n",
    "    Hash_table with type key = K.t \n",
    "                and type content = C.t\n",
    "```"
   ]
  },
  {
   "cell_type": "code",
   "execution_count": 22,
   "metadata": {
    "deletable": false,
    "nbgrader": {
     "cell_type": "code",
     "checksum": "edea73e3706cb856b0feb67ec53fcde6",
     "grade": false,
     "grade_id": "cell-9e6c558ab4180147",
     "locked": false,
     "schema_version": 3,
     "solution": true,
     "task": false
    }
   },
   "outputs": [
    {
     "data": {
      "text/plain": [
       "module Make_hash_table :\n",
       "  functor (K : Key) (C : Showable) ->\n",
       "    sig\n",
       "      type key = K.t\n",
       "      type content = C.t\n",
       "      type t\n",
       "      val create : unit -> t\n",
       "      val put : t -> key -> content -> unit\n",
       "      val get : t -> key -> content option\n",
       "      val remove : t -> key -> unit\n",
       "      val length : t -> int\n",
       "      val string_of_t : t -> string\n",
       "      val chain_length : t -> int -> int\n",
       "    end\n"
      ]
     },
     "execution_count": 22,
     "metadata": {},
     "output_type": "execute_result"
    }
   ],
   "source": [
    "module Make_hash_table  (K : Key) (C : Showable) :\n",
    "    Hash_table with type key = K.t\n",
    "                and type content = C.t = struct\n",
    "                \n",
    "    module  Key_Value_Pair (K:Key) (C:Showable) : (Showable with type t = K.t * C.t) = struct\n",
    "        \n",
    "        type t = K.t * C.t\n",
    "        \n",
    "        let string_of_t (k,v) = (K.string_of_t k) ^ (C.string_of_t v)\n",
    "    \n",
    "    end\n",
    "   \n",
    "    type key = K.t\n",
    "   \n",
    "    type content = C.t\n",
    "   \n",
    "   (*type t = MakeList(MakeNode(Key_Value_Pair (K) (C) )).t array *)\n",
    "    \n",
    "    module X2 = MakeNode(Key_Value_Pair (K) (C) )\n",
    "    \n",
    "    module X3 = MakeList( MakeNode(Key_Value_Pair (K) (C) ))\n",
    "    \n",
    "    module X4 = MakeDllFunctions( MakeNode(Key_Value_Pair (K) (C) ))\n",
    "    \n",
    "    type t = X3.t array\n",
    "    \n",
    "    let funit x = ()\n",
    "    \n",
    "    let create () = Array.init (K.num_buckets) (fun x -> X3.create ())\n",
    " \n",
    "    \n",
    "   (* let create ()  = ( Array.make (K.num_buckets) (X3.create()) )  *)\n",
    "   \n",
    "    let search h k = \n",
    "        let rec loop l' = match l' with \n",
    "        |None -> None\n",
    "        |Some n -> (match X2.get_content n with \n",
    "                    |(a,b) -> if a=k then Some n else loop (X2.get_next n)\n",
    "                    )\n",
    "        in\n",
    "        loop (X3.first (h.(K.hash k)))\n",
    "    \n",
    "    let put h k v = \n",
    "        (match search h k with  \n",
    "        |None -> funit( X3.insert_first (h.(K.hash k)) (k,v) )\n",
    "        |Some n -> funit( (X3.insert_after n (k,v) ) ) ; X3.remove (h.(K.hash k)) n \n",
    "        )\n",
    "    \n",
    "    let get h k = \n",
    "        (match search h k with \n",
    "        |None -> None\n",
    "        |Some n -> (match  X2.get_content n with\n",
    "                    |(_,v) -> Some v\n",
    "                    )\n",
    "        )\n",
    "    \n",
    "    \n",
    "    let remove h k = \n",
    "        (match search h k with \n",
    "        |None -> ()\n",
    "        |Some n -> X3.remove (h.(K.hash k)) n \n",
    "        )\n",
    "    \n",
    "    let length h = let ans = ref 0 in (Array.iter (fun l -> ans:= !ans + (X4.length l) ) h ); !ans\n",
    "    \n",
    "    let string_of_t h = \" \"\n",
    "    \n",
    "    let chain_length h bucket = X4.length (h.(bucket))\n",
    "    \n",
    "end"
   ]
  },
  {
   "cell_type": "code",
   "execution_count": 23,
   "metadata": {
    "deletable": false,
    "editable": false,
    "nbgrader": {
     "cell_type": "code",
     "checksum": "c8e22d5272589fec5d86423094385b41",
     "grade": false,
     "grade_id": "cell-b7d022fd3736f848",
     "locked": true,
     "schema_version": 3,
     "solution": false,
     "task": false
    }
   },
   "outputs": [
    {
     "data": {
      "text/plain": [
       "module K :\n",
       "  sig\n",
       "    type t = int\n",
       "    val num_buckets : int\n",
       "    val hash : t -> int\n",
       "    val string_of_t : t -> string\n",
       "  end\n"
      ]
     },
     "execution_count": 23,
     "metadata": {},
     "output_type": "execute_result"
    },
    {
     "data": {
      "text/plain": [
       "module StringShowable : sig type t = string val string_of_t : t -> string end\n"
      ]
     },
     "execution_count": 23,
     "metadata": {},
     "output_type": "execute_result"
    },
    {
     "data": {
      "text/plain": [
       "module H :\n",
       "  sig\n",
       "    type key = K.t\n",
       "    type content = StringShowable.t\n",
       "    type t = Make_hash_table(K)(StringShowable).t\n",
       "    val create : unit -> t\n",
       "    val put : t -> key -> content -> unit\n",
       "    val get : t -> key -> content option\n",
       "    val remove : t -> key -> unit\n",
       "    val length : t -> int\n",
       "    val string_of_t : t -> string\n",
       "    val chain_length : t -> int -> int\n",
       "  end\n"
      ]
     },
     "execution_count": 23,
     "metadata": {},
     "output_type": "execute_result"
    }
   ],
   "source": [
    "module K : Key with type t = int = struct\n",
    "  type t = int\n",
    "  let num_buckets = 64\n",
    "  let hash k = k mod num_buckets\n",
    "  let string_of_t = string_of_int\n",
    "end\n",
    "\n",
    "module StringShowable : Showable with type t = string = struct\n",
    "  type t = string\n",
    "  let string_of_t s = s\n",
    "end\n",
    "\n",
    "module H = Make_hash_table(K)(StringShowable)\n",
    "\n",
    "open H"
   ]
  },
  {
   "cell_type": "code",
   "execution_count": 24,
   "metadata": {
    "deletable": false,
    "editable": false,
    "nbgrader": {
     "cell_type": "code",
     "checksum": "f55b7e31a47f9a810fb9bf5856c6d22c",
     "grade": true,
     "grade_id": "cell-000e5d1f749d2866",
     "locked": true,
     "points": 15,
     "schema_version": 3,
     "solution": false,
     "task": false
    }
   },
   "outputs": [
    {
     "data": {
      "text/plain": [
       "- : unit = ()\n"
      ]
     },
     "execution_count": 24,
     "metadata": {},
     "output_type": "execute_result"
    }
   ],
   "source": [
    "let h = create () in\n",
    "put h 0 \"zero\";\n",
    "put h 1 \"one\";\n",
    "assert (get h 0 = Some \"zero\");\n",
    "assert (get h 1 = Some \"one\");\n",
    "put h 0 \"-zero-\";\n",
    "assert (get h 0 = Some \"-zero-\")\n"
   ]
  },
  {
   "cell_type": "code",
   "execution_count": 25,
   "metadata": {
    "deletable": false,
    "editable": false,
    "nbgrader": {
     "cell_type": "code",
     "checksum": "1ba6ea9c7b04cc0b2649d213e606035e",
     "grade": true,
     "grade_id": "cell-2a9f56f539793f1e",
     "locked": true,
     "points": 20,
     "schema_version": 3,
     "solution": false,
     "task": false
    }
   },
   "outputs": [
    {
     "data": {
      "text/plain": [
       "- : unit = ()\n"
      ]
     },
     "execution_count": 25,
     "metadata": {},
     "output_type": "execute_result"
    }
   ],
   "source": [
    "let h = create () in\n",
    "put h 0 \"zero\";\n",
    "put h 1 \"one\";\n",
    "assert (get h 0 = Some \"zero\");\n",
    "assert (get h 1 = Some \"one\");\n",
    "put h 64 \"-zero-\";\n",
    "assert (get h 0 = Some \"zero\");\n",
    "assert (get h 64 = Some \"-zero-\");\n",
    "assert (length h = 3);\n",
    "assert (chain_length h 0 = 2);\n",
    "assert (chain_length h 1 = 1)\n"
   ]
  }
 ],
 "metadata": {
  "kernelspec": {
   "display_name": "OCaml 4.10",
   "language": "OCaml",
   "name": "ocaml-jupyter"
  },
  "language_info": {
   "codemirror_mode": "text/x-ocaml",
   "file_extension": ".ml",
   "mimetype": "text/x-ocaml",
   "name": "OCaml",
   "nbconverter_exporter": null,
   "pygments_lexer": "OCaml",
   "version": "4.10.0"
  }
 },
 "nbformat": 4,
 "nbformat_minor": 2
}
