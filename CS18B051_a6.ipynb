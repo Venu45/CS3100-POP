{
 "cells": [
  {
   "cell_type": "markdown",
   "metadata": {},
   "source": [
    "Before you turn this problem in, make sure everything runs as expected. First, **restart the kernel** (in the menubar, select Kernel$\\rightarrow$Restart) and then **run all cells** (in the menubar, select Cell$\\rightarrow$Run All).\n",
    "\n",
    "Make sure you fill in any place that says `YOUR CODE HERE` or \"YOUR ANSWER HERE\", as well as your name below:"
   ]
  },
  {
   "cell_type": "code",
   "execution_count": 1,
   "metadata": {},
   "outputs": [
    {
     "name": "stdout",
     "output_type": "stream",
     "text": []
    }
   ],
   "source": [
    "let name = \"Anumala Venu Madhava Reddy\"\n",
    "let rollno = \"CS18B051\""
   ]
  },
  {
   "cell_type": "markdown",
   "metadata": {},
   "source": [
    "## Important notes about grading:\n",
    "\n",
    "1. **Compiler errors:** All code you submit must compile. Programs that do not compile will probably receive an automatic zero. If you are having trouble getting your assignment to compile, please visit consulting hours. If you run out of time, it is better to comment out the parts that do not compile, than hand in a more complete file that does not compile.\n",
    "2. **Late assignments:** Please carefully review the course website's policy on late assignments, as all assignments handed in after the deadline will be considered late. Verify on moodle that you have submitted the correct version, before the deadline. Submitting the incorrect version before the deadline and realizing that you have done so after the deadline will be counted as a late submission."
   ]
  },
  {
   "cell_type": "markdown",
   "metadata": {
    "deletable": false,
    "editable": false,
    "nbgrader": {
     "cell_type": "markdown",
     "checksum": "05e269f2ede4ae045016a0d8167284f3",
     "grade": false,
     "grade_id": "cell-fccdd152af2cd140",
     "locked": true,
     "schema_version": 3,
     "solution": false,
     "task": false
    }
   },
   "source": [
    "# Recursive programs \n",
    "\n",
    "Let us implement a few facts about natural numbers encoded as church numerals. Use the constant `0` for representing `0` and `s(X)` to represent the successor function.\n",
    "\n",
    "## Problem 1\n",
    "\n",
    "Implement the predicate `natural_number` such that the following tests pass. "
   ]
  },
  {
   "cell_type": "code",
   "execution_count": 2,
   "metadata": {
    "deletable": false,
    "nbgrader": {
     "cell_type": "code",
     "checksum": "ac2a51387d1698312b93a5f477309979",
     "grade": false,
     "grade_id": "cell-8a81381a3891ca79",
     "locked": false,
     "schema_version": 3,
     "solution": true,
     "task": false
    }
   },
   "outputs": [
    {
     "name": "stdout",
     "output_type": "stream",
     "text": [
      "Added 2 clauses(s)."
     ]
    }
   ],
   "source": [
    "natural_number(0).\n",
    "natural_number(s(X)) :- natural_number(X)."
   ]
  },
  {
   "cell_type": "code",
   "execution_count": 3,
   "metadata": {
    "deletable": false,
    "editable": false,
    "nbgrader": {
     "cell_type": "code",
     "checksum": "bc6d45fe32ac8f4ffaaa2895526bb3d6",
     "grade": true,
     "grade_id": "cell-3ab44c06f80c32b5",
     "locked": true,
     "points": 10,
     "schema_version": 3,
     "solution": false,
     "task": false
    }
   },
   "outputs": [
    {
     "name": "stdout",
     "output_type": "stream",
     "text": [
      "true.\n",
      "true.\n",
      "true."
     ]
    }
   ],
   "source": [
    "/* 10 points */\n",
    "?- natural_number(0) -> true; abort.\n",
    "?- natural_number(s(s(s(0)))) -> true; abort.\n",
    "?- not(natural_number(s(s(z)))) -> true; abort."
   ]
  },
  {
   "cell_type": "markdown",
   "metadata": {
    "deletable": false,
    "editable": false,
    "nbgrader": {
     "cell_type": "markdown",
     "checksum": "4f0d0c546bb735205d712fb3f8710faa",
     "grade": false,
     "grade_id": "cell-4ede557b4c1d3470",
     "locked": true,
     "schema_version": 3,
     "solution": false,
     "task": false
    }
   },
   "source": [
    "BTW, the strange syntax above is Prolog's way of writing if-then-else. \n",
    "\n",
    "```\n",
    "if g then t else f\n",
    "```\n",
    "\n",
    "gets translated to \n",
    "\n",
    "```\n",
    "g -> t; f\n",
    "```\n",
    "\n",
    "where `g` is the goal. We didn't cover this in class and you will not have to worry about this. "
   ]
  },
  {
   "cell_type": "markdown",
   "metadata": {
    "deletable": false,
    "editable": false,
    "nbgrader": {
     "cell_type": "markdown",
     "checksum": "ff02d737bf5ce02732211660eb1839c4",
     "grade": false,
     "grade_id": "cell-8e970bb55d98c0c2",
     "locked": true,
     "schema_version": 3,
     "solution": false,
     "task": false
    }
   },
   "source": [
    "## Problem 2\n",
    "\n",
    "Implement the predicate \n",
    "\n",
    "```prolog\n",
    "plus(X,Y,Z)\n",
    "```\n",
    "\n",
    "which states that `X+Y=Z`. Encode the following axioms for addition:\n",
    "\n",
    "\\\\[\n",
    "\\begin{array}{c}\n",
    "\\forall x. plus(x,0,x) \\\\\n",
    "\\forall x. plus(0,x,x) \\\\\n",
    "\\forall x,y,z. plus(x,y,z) \\rightarrow plus(s(x),y,s(z))\n",
    "\\end{array}\n",
    "\\\\]"
   ]
  },
  {
   "cell_type": "code",
   "execution_count": 4,
   "metadata": {
    "deletable": false,
    "nbgrader": {
     "cell_type": "code",
     "checksum": "5521c65977049d1503f84f18b36d16be",
     "grade": false,
     "grade_id": "cell-11eb4b43f1dea883",
     "locked": false,
     "schema_version": 3,
     "solution": true,
     "task": false
    }
   },
   "outputs": [
    {
     "name": "stdout",
     "output_type": "stream",
     "text": [
      "Added 3 clauses(s)."
     ]
    }
   ],
   "source": [
    "plus(X,0,X).\n",
    "plus(0,X,X).\n",
    "plus(s(X),Y,s(Z)) :- plus(X,Y,Z)."
   ]
  },
  {
   "cell_type": "code",
   "execution_count": 5,
   "metadata": {
    "deletable": false,
    "editable": false,
    "nbgrader": {
     "cell_type": "code",
     "checksum": "1ce202aa3d7cabc7161beefe69acb396",
     "grade": true,
     "grade_id": "cell-37d35d558a789c51",
     "locked": true,
     "points": 10,
     "schema_version": 3,
     "solution": false,
     "task": false
    }
   },
   "outputs": [
    {
     "name": "stdout",
     "output_type": "stream",
     "text": [
      "true.\n",
      "X = s(s(s(0))) .\n",
      "X = _1604 .\n",
      "X = s(s(0)), Y = s(0) ."
     ]
    }
   ],
   "source": [
    "/* 10 points */\n",
    "?- plus(s(s(0)),s(s(0)),s(s(s(s(0))))) -> true; abort.\n",
    "?- plus(s(s(0)),X,s(s(s(s(s(0)))))), X = s(s(s(0))) -> true; abort.\n",
    "?- not(plus(s(s(0)),X,0)) -> true; abort.\n",
    "?- plus(X,Y,s(s(s(0)))), X=s(s(0)), Y=s(0) -> true; abort."
   ]
  },
  {
   "cell_type": "markdown",
   "metadata": {
    "deletable": false,
    "editable": false,
    "nbgrader": {
     "cell_type": "markdown",
     "checksum": "7e1134b4011f8cd3afebab8082fb59d1",
     "grade": false,
     "grade_id": "cell-ebe5ffa7772420c7",
     "locked": true,
     "schema_version": 3,
     "solution": false,
     "task": false
    }
   },
   "source": [
    "## Problem 3\n",
    "\n",
    "We can represent multiplication using repeated addition. Write a predicate `mult(X,Y,Z)` using `plus(X,Y,Z)` where `mult(X,Y,Z)` represents `X*Y=Z`. Do not use built in arithmetic."
   ]
  },
  {
   "cell_type": "code",
   "execution_count": 6,
   "metadata": {
    "deletable": false,
    "nbgrader": {
     "cell_type": "code",
     "checksum": "bc12fd06eb5401a535b044999393dd17",
     "grade": false,
     "grade_id": "cell-43354419c3d2fd23",
     "locked": false,
     "schema_version": 3,
     "solution": true,
     "task": false
    }
   },
   "outputs": [
    {
     "name": "stdout",
     "output_type": "stream",
     "text": [
      "Added 3 clauses(s)."
     ]
    }
   ],
   "source": [
    "mult(X,0,0).\n",
    "mult(0,X,0).\n",
    "mult(s(X),Y,Z) :- mult(X,Y,M) , plus(Y,M,Z)."
   ]
  },
  {
   "cell_type": "code",
   "execution_count": 7,
   "metadata": {
    "deletable": false,
    "editable": false,
    "nbgrader": {
     "cell_type": "code",
     "checksum": "914abb823b5bca03af35c50897f6f449",
     "grade": true,
     "grade_id": "cell-1b407fc43b930ff5",
     "locked": true,
     "points": 10,
     "schema_version": 3,
     "solution": false,
     "task": false
    }
   },
   "outputs": [
    {
     "name": "stdout",
     "output_type": "stream",
     "text": [
      "X = s(s(s(s(s(s(0)))))) .\n",
      "X = 0 ."
     ]
    }
   ],
   "source": [
    "/* 10 points */\n",
    "?- mult(s(s(s(0))),s(s(0)),X), X = s(s(s(s(s(s(0)))))) -> true; abort.\n",
    "?- mult(s(s(s(0))),0,X), X = 0 -> true; abort."
   ]
  },
  {
   "cell_type": "markdown",
   "metadata": {
    "deletable": false,
    "editable": false,
    "nbgrader": {
     "cell_type": "markdown",
     "checksum": "3f5ae36037d162d90b7e7e1e0f74fbad",
     "grade": false,
     "grade_id": "cell-4fea2bcdb8672a3b",
     "locked": true,
     "schema_version": 3,
     "solution": false,
     "task": false
    }
   },
   "source": [
    "## Problem 4\n",
    "\n",
    "Let's implement a conversion function from Church numerals to Prolog integers. The predicate \n",
    "\n",
    "```prolog\n",
    "to_int(X,Y)\n",
    "```\n",
    "\n",
    "holds if `X` is the church numeral that corresponds to the Prolog integer `Y`. See test cases for what is expected."
   ]
  },
  {
   "cell_type": "code",
   "execution_count": 8,
   "metadata": {
    "deletable": false,
    "nbgrader": {
     "cell_type": "code",
     "checksum": "69c534841747ad522d1844c3d40f62b9",
     "grade": false,
     "grade_id": "cell-4670be924aec250f",
     "locked": false,
     "schema_version": 3,
     "solution": true,
     "task": false
    }
   },
   "outputs": [
    {
     "name": "stdout",
     "output_type": "stream",
     "text": [
      "Added 2 clauses(s)."
     ]
    }
   ],
   "source": [
    "to_int(0,0).\n",
    "to_int(s(X),Y) :- to_int(X,M) , Y is M + 1 ."
   ]
  },
  {
   "cell_type": "markdown",
   "metadata": {
    "deletable": false,
    "editable": false,
    "nbgrader": {
     "cell_type": "markdown",
     "checksum": "637f3df4a748a416b46185562fe45de5",
     "grade": false,
     "grade_id": "cell-20c06c12e97a36aa",
     "locked": true,
     "schema_version": 3,
     "solution": false,
     "task": false
    }
   },
   "source": [
    "We now define `of_int` based on `to_int` definition. For example `of_int(1,s(z))`. \n",
    "\n",
    "The exclamation mark at the end is the **cut** operator. We will study the cut operator in the future lectures. You will also see more strategically placed cut operators in the tests. You will not need to understand what they are for solving this programming assignment. "
   ]
  },
  {
   "cell_type": "code",
   "execution_count": 9,
   "metadata": {
    "deletable": false,
    "editable": false,
    "nbgrader": {
     "cell_type": "code",
     "checksum": "14b98250b765aa538b380d3e0597f078",
     "grade": false,
     "grade_id": "cell-b210e636f78d7639",
     "locked": true,
     "schema_version": 3,
     "solution": false,
     "task": false
    }
   },
   "outputs": [
    {
     "name": "stdout",
     "output_type": "stream",
     "text": [
      "Added 1 clauses(s)."
     ]
    }
   ],
   "source": [
    "of_int(X,Y) :- to_int(Y,X), !."
   ]
  },
  {
   "cell_type": "code",
   "execution_count": 10,
   "metadata": {
    "deletable": false,
    "editable": false,
    "nbgrader": {
     "cell_type": "code",
     "checksum": "9f4244f7d0961c436fb2d57c00b585f1",
     "grade": true,
     "grade_id": "cell-75e567cf8e02cf5e",
     "locked": true,
     "points": 10,
     "schema_version": 3,
     "solution": false,
     "task": false
    }
   },
   "outputs": [
    {
     "name": "stdout",
     "output_type": "stream",
     "text": [
      "Y = s(s(s(0))) .\n",
      "X = 2 ."
     ]
    }
   ],
   "source": [
    "/* 10 points */\n",
    "?- of_int(3,Y), Y = s(s(s(0))) -> true; abort.\n",
    "?- to_int(s(s(0)),X), X = 2 -> true; abort."
   ]
  },
  {
   "cell_type": "markdown",
   "metadata": {
    "deletable": false,
    "editable": false,
    "nbgrader": {
     "cell_type": "markdown",
     "checksum": "408bc71605d8beced76e8aafb996e2db",
     "grade": false,
     "grade_id": "cell-c6fc791406f49bb2",
     "locked": true,
     "schema_version": 3,
     "solution": false,
     "task": false
    }
   },
   "source": [
    "## Problem 5\n",
    "\n",
    "Implement subtraction predicate `sub(X,Y,Z)` which holds if `X-Y=Z` where X,Y and Z are church numerals. Do not use built in arithmetic subtraction."
   ]
  },
  {
   "cell_type": "code",
   "execution_count": 11,
   "metadata": {
    "deletable": false,
    "nbgrader": {
     "cell_type": "code",
     "checksum": "1137935ace922a3abfe9fe8845e04d63",
     "grade": false,
     "grade_id": "cell-34c04e23a8ccbfaa",
     "locked": false,
     "schema_version": 3,
     "solution": true,
     "task": false
    }
   },
   "outputs": [
    {
     "name": "stdout",
     "output_type": "stream",
     "text": [
      "Added 1 clauses(s)."
     ]
    }
   ],
   "source": [
    "sub(X,Y,Z) :- plus(Y,Z,X)."
   ]
  },
  {
   "cell_type": "code",
   "execution_count": 12,
   "metadata": {
    "deletable": false,
    "editable": false,
    "nbgrader": {
     "cell_type": "code",
     "checksum": "81d450d96ee10b2ba9582bd8e4c181dc",
     "grade": true,
     "grade_id": "cell-1b3ae97d6fa21bfb",
     "locked": true,
     "points": 10,
     "schema_version": 3,
     "solution": false,
     "task": false
    }
   },
   "outputs": [
    {
     "name": "stdout",
     "output_type": "stream",
     "text": [
      "X = s(s(s(s(s(0))))), Y = s(s(s(s(0)))), Z = s(0), Result = 1 .\n",
      "X = s(s(s(s(0)))), Y = s(s(s(s(0)))), Z = 0, Result = 0 .\n",
      "X = s(s(s(s(0)))), Y = s(s(s(s(s(0))))), Z = _1624 ."
     ]
    }
   ],
   "source": [
    "/* 10 points */\n",
    "?- of_int(5,X), of_int(4,Y), sub(X,Y,Z), to_int(Z,Result), Result = 1 -> true; abort.\n",
    "?- of_int(4,X), of_int(4,Y), sub(X,Y,Z), to_int(Z,Result), Result = 0 -> true; abort.\n",
    "/* 4-5 is undefined; derives false. */\n",
    "?- of_int(4,X), of_int(5,Y), not(sub(X,Y,Z)) -> true; abort."
   ]
  },
  {
   "cell_type": "markdown",
   "metadata": {
    "deletable": false,
    "editable": false,
    "nbgrader": {
     "cell_type": "markdown",
     "checksum": "a11cba80a5f825cf125560349a78e521",
     "grade": false,
     "grade_id": "cell-1a301288439bad2a",
     "locked": true,
     "schema_version": 3,
     "solution": false,
     "task": false
    }
   },
   "source": [
    "## Problem 6\n",
    "\n",
    "We can represent division using repeated substraction. Implement `div(X,Y,Z)` which stands for `X/Y=Z`. Do not use built in arithmetic division. You can use arithmetic comparison."
   ]
  },
  {
   "cell_type": "code",
   "execution_count": 13,
   "metadata": {
    "deletable": false,
    "nbgrader": {
     "cell_type": "code",
     "checksum": "800e9d3f342e4bf25f7f0d49c05b9b90",
     "grade": false,
     "grade_id": "cell-6658e6bbf8d4f9f7",
     "locked": false,
     "schema_version": 3,
     "solution": true,
     "task": false
    }
   },
   "outputs": [
    {
     "name": "stdout",
     "output_type": "stream",
     "text": [
      "Added 2 clauses(s)."
     ]
    }
   ],
   "source": [
    "div(X,X,s(0)).\n",
    "div(X,Y,s(Z)) :- to_int(Y,Re), not(Re is 0), sub(X,Y,M) , div(M,Y,Z)."
   ]
  },
  {
   "cell_type": "code",
   "execution_count": 14,
   "metadata": {
    "deletable": false,
    "editable": false,
    "nbgrader": {
     "cell_type": "code",
     "checksum": "bcbbedd57ab4c496ba460946bf92d3b9",
     "grade": true,
     "grade_id": "cell-cdc7c341fe7b9cb5",
     "locked": true,
     "points": 10,
     "schema_version": 3,
     "solution": false,
     "task": false
    }
   },
   "outputs": [
    {
     "name": "stdout",
     "output_type": "stream",
     "text": [
      "X = s(s(s(s(s(s(s(s(s(s(0)))))))))), Y = s(s(s(s(s(0))))), Z = s(s(0)), Result = 2 .\n",
      "X = s(s(s(s(s(0))))), Y = s(s(s(s(s(s(s(s(s(s(0)))))))))), Z = _1624 .\n",
      "X = s(s(s(s(s(0))))), Y = 0, Z = _1624 ."
     ]
    }
   ],
   "source": [
    "/* 10 points */\n",
    "?- of_int(10,X), of_int(5,Y), div(X,Y,Z), to_int(Z,Result), Result = 2, ! -> true; abort. \n",
    "/* 5/10 is undefined; derives false. */\n",
    "?- of_int(5,X), of_int(10,Y), not(div(X,Y,Z)) -> true; abort.\n",
    "/* 5/0 is undefined; derives false. */\n",
    "?- of_int(5,X), of_int(0,Y), not(div(X,Y,Z)) -> true; abort."
   ]
  },
  {
   "cell_type": "markdown",
   "metadata": {
    "deletable": false,
    "editable": false,
    "nbgrader": {
     "cell_type": "markdown",
     "checksum": "00f1de35f16538f7f1ed95fb4bc15a1c",
     "grade": false,
     "grade_id": "cell-0870361a89d2728b",
     "locked": true,
     "schema_version": 3,
     "solution": false,
     "task": false
    }
   },
   "source": [
    "## Problem 7\n",
    "\n",
    "Implement a predicate `range(S,E,M)` which holds if the integer `M` is within the range `S` to `E` including `S` and `E`. "
   ]
  },
  {
   "cell_type": "code",
   "execution_count": 15,
   "metadata": {
    "deletable": false,
    "nbgrader": {
     "cell_type": "code",
     "checksum": "a3b80e6627bee8f219db674f98eeac60",
     "grade": false,
     "grade_id": "cell-bf5de045f9d9aa0d",
     "locked": false,
     "schema_version": 3,
     "solution": true,
     "task": false
    }
   },
   "outputs": [
    {
     "name": "stdout",
     "output_type": "stream",
     "text": [
      "Added 1 clauses(s)."
     ]
    }
   ],
   "source": [
    "range(S,E,M) :- S =< M , M =< E ."
   ]
  },
  {
   "cell_type": "code",
   "execution_count": 16,
   "metadata": {
    "deletable": false,
    "editable": false,
    "nbgrader": {
     "cell_type": "code",
     "checksum": "04ce15dff7889cfb9db52b1cd9c4a0dc",
     "grade": true,
     "grade_id": "cell-6689d4798a6c2705",
     "locked": true,
     "points": 10,
     "schema_version": 3,
     "solution": false,
     "task": false
    }
   },
   "outputs": [
    {
     "name": "stdout",
     "output_type": "stream",
     "text": [
      "true.\n",
      "true.\n",
      "true.\n",
      "true."
     ]
    }
   ],
   "source": [
    "/* 10 points */\n",
    "?- not(range(1,2,0)) -> true; abort.\n",
    "?- range(1,2,1) -> true; abort.\n",
    "?- range(1,2,2) -> true; abort.\n",
    "?- not(range(1,2,3)) -> true; abort."
   ]
  },
  {
   "cell_type": "markdown",
   "metadata": {
    "deletable": false,
    "editable": false,
    "nbgrader": {
     "cell_type": "markdown",
     "checksum": "da2e757b7f8ffde6abc6ef444a42ef31",
     "grade": false,
     "grade_id": "cell-9b9197a66a98bcda",
     "locked": true,
     "schema_version": 3,
     "solution": false,
     "task": false
    }
   },
   "source": [
    "# Programming with Lists\n",
    "\n",
    "Let's implement some programs over lists.\n",
    "\n",
    "## Problem 8\n",
    "\n",
    "Implement reverse of a list using the predicate `reverse(X,RevX)` where `RevX` is the reverse of the list `X`. You might want to use `append`. "
   ]
  },
  {
   "cell_type": "code",
   "execution_count": 17,
   "metadata": {
    "deletable": false,
    "nbgrader": {
     "cell_type": "code",
     "checksum": "d64b2305a4780b3c706b8333e785dca8",
     "grade": false,
     "grade_id": "cell-fe071a54a1c005f7",
     "locked": false,
     "schema_version": 3,
     "solution": true,
     "task": false
    }
   },
   "outputs": [
    {
     "name": "stdout",
     "output_type": "stream",
     "text": [
      "Added 5 clauses(s)."
     ]
    }
   ],
   "source": [
    "append([],Q,Q).\n",
    "append([H | P], Q, [H | R]) :- append(P, Q, R).\n",
    "\n",
    "reverse([],Acc,Acc).\n",
    "reverse([H | T],Acc,L) :- append([H],Acc,L1) , reverse(T,L1,L).\n",
    "reverse(X,RevX) :- reverse(X,[],RevX)."
   ]
  },
  {
   "cell_type": "code",
   "execution_count": 18,
   "metadata": {
    "deletable": false,
    "editable": false,
    "nbgrader": {
     "cell_type": "code",
     "checksum": "9ef660f923638cf58c1d3f944045dac4",
     "grade": true,
     "grade_id": "cell-f8094b67909f155e",
     "locked": true,
     "points": 10,
     "schema_version": 3,
     "solution": false,
     "task": false
    }
   },
   "outputs": [
    {
     "name": "stdout",
     "output_type": "stream",
     "text": [
      "X = [  ] .\n",
      "X = [ 3, 2, 1 ] .\n",
      "A = _1596, B = _1602, C = _1608, X = [ _1608, _1602, _1596 ] ."
     ]
    }
   ],
   "source": [
    "/* 10 points */\n",
    "?- reverse([],X), X = [] -> true; abort.\n",
    "?- reverse([1,2,3],X), X = [3,2,1] -> true; abort.\n",
    "?- reverse([A,B,C],X), X = [C,B,A] -> true; abort."
   ]
  },
  {
   "cell_type": "markdown",
   "metadata": {
    "deletable": false,
    "editable": false,
    "nbgrader": {
     "cell_type": "markdown",
     "checksum": "b525a444e05acdeddcee668feed0a4e8",
     "grade": false,
     "grade_id": "cell-43de6c787ed16b3c",
     "locked": true,
     "schema_version": 3,
     "solution": false,
     "task": false
    }
   },
   "source": [
    "## Problem 9\n",
    "\n",
    "Implement list membership predicate `member(X,L)` which holds if $X \\in L$."
   ]
  },
  {
   "cell_type": "code",
   "execution_count": 19,
   "metadata": {
    "deletable": false,
    "nbgrader": {
     "cell_type": "code",
     "checksum": "f605a800468fcddc6fda7dd27279ebab",
     "grade": false,
     "grade_id": "cell-2e2535aaa0537d16",
     "locked": false,
     "schema_version": 3,
     "solution": true,
     "task": false
    }
   },
   "outputs": [
    {
     "name": "stdout",
     "output_type": "stream",
     "text": [
      "Added 2 clauses(s)."
     ]
    }
   ],
   "source": [
    "member(X,[X | T]).\n",
    "member(X,[_ | T]) :- member(X,T)."
   ]
  },
  {
   "cell_type": "code",
   "execution_count": 20,
   "metadata": {
    "deletable": false,
    "editable": false,
    "nbgrader": {
     "cell_type": "code",
     "checksum": "b863e7938c012820d08e9e4cd49776d5",
     "grade": true,
     "grade_id": "cell-48f793200f5a29e1",
     "locked": true,
     "points": 10,
     "schema_version": 3,
     "solution": false,
     "task": false
    }
   },
   "outputs": [
    {
     "name": "stdout",
     "output_type": "stream",
     "text": [
      "true.\n",
      "true."
     ]
    }
   ],
   "source": [
    "/* 10 points */\n",
    "?- member(1,[1,2,3]) -> true; abort.\n",
    "?- not(member(4,[1,2,3])) -> true; abort."
   ]
  },
  {
   "cell_type": "markdown",
   "metadata": {
    "deletable": false,
    "editable": false,
    "nbgrader": {
     "cell_type": "markdown",
     "checksum": "65582e05d260d4537bafbbd23186230a",
     "grade": false,
     "grade_id": "cell-7193121836b6a201",
     "locked": true,
     "schema_version": 3,
     "solution": false,
     "task": false
    }
   },
   "source": [
    "## Problem 10\n",
    "\n",
    "Implement `partition(L,P,S)` such that \n",
    "\n",
    "* `P` is the prefix of `L` and\n",
    "* `S` is the suffix of `L` and\n",
    "* `append(P,S,L)` holds\n",
    "* If `L` is `[]`, then `P` and `S` are `[]`.\n",
    "* If `L` is `[H]`, then `P` is `[H]` and `S` is `[]`. \n",
    "* Otherwise, \n",
    "  * let length of `L` be `N`. Then length of `P` is `div(N/2)`. Use Prolog's [built-in integer division](https://www.swi-prolog.org/pldoc/man?function=div/2).\n",
    "  * length of `S` is `N - div(N/2)`. \n",
    "\n",
    "You may need to redefine `len`,`prefix`,`suffix`,`append` predicates that we have seen in class. You may also need to use Prolog comparison operator `>=` or `>` depending on how you write the predicate. "
   ]
  },
  {
   "cell_type": "code",
   "execution_count": 21,
   "metadata": {
    "deletable": false,
    "nbgrader": {
     "cell_type": "code",
     "checksum": "0a523a76a80c134750891170af96647d",
     "grade": false,
     "grade_id": "cell-515b9e3fb62d0bc4",
     "locked": false,
     "schema_version": 3,
     "solution": true,
     "task": false
    }
   },
   "outputs": [
    {
     "name": "stdout",
     "output_type": "stream",
     "text": [
      "Added 7 clauses(s)."
     ]
    }
   ],
   "source": [
    "len([],0).\n",
    "len([_ | T], N) :- len(T,M), N is M+1.\n",
    "\n",
    "append([],Q,Q).\n",
    "append([H | P], Q, [H | R]) :- append(P, Q, R).\n",
    "\n",
    "get_prefix([H | T],[],0).\n",
    "get_prefix([H | T],Acc,N) :- succ(N1,N),  get_prefix(T,Acc1,N1) , append([H],Acc1,Acc).\n",
    "\n",
    "partition([],[],[]).\n",
    "partition([H],[H],[]).\n",
    "partition(L,P,S) :- len(L,N) , X1 is div(N,2) , get_prefix(L,P,X1), append(P,S,L)."
   ]
  },
  {
   "cell_type": "code",
   "execution_count": 22,
   "metadata": {
    "deletable": false,
    "editable": false,
    "nbgrader": {
     "cell_type": "code",
     "checksum": "3f687f59f490162886b1b2135db78b92",
     "grade": true,
     "grade_id": "cell-e2b8e0e7faeb9a63",
     "locked": true,
     "points": 10,
     "schema_version": 3,
     "solution": false,
     "task": false
    }
   },
   "outputs": [
    {
     "name": "stdout",
     "output_type": "stream",
     "text": [
      "true.\n",
      "H = _1592 .\n",
      "true."
     ]
    }
   ],
   "source": [
    "/* 10 points */\n",
    "?- partition([],[],[]) -> true; abort.\n",
    "?- partition([H],[H],[]) -> true; abort.\n",
    "?- partition([1,2,3],[1],[2,3]) -> true; abort."
   ]
  },
  {
   "cell_type": "markdown",
   "metadata": {
    "deletable": false,
    "editable": false,
    "nbgrader": {
     "cell_type": "markdown",
     "checksum": "7e2aeac949dca74fc23c2d07c3d1121b",
     "grade": false,
     "grade_id": "cell-f68a00c292f40d2b",
     "locked": true,
     "schema_version": 3,
     "solution": false,
     "task": false
    }
   },
   "source": [
    "## Problem 11\n",
    "\n",
    "Implement the predicate `merge(X,Y,Z)` where `X` and `Y` are sorted, and `Z` contains the same elements as `U` where `append(X,Y,U)` but `Z` is also additionally sorted."
   ]
  },
  {
   "cell_type": "code",
   "execution_count": 23,
   "metadata": {
    "deletable": false,
    "nbgrader": {
     "cell_type": "code",
     "checksum": "54e099abafa5eb499a014c509b6f8634",
     "grade": false,
     "grade_id": "cell-f2d999dc61fef749",
     "locked": false,
     "schema_version": 3,
     "solution": true,
     "task": false
    }
   },
   "outputs": [
    {
     "name": "stdout",
     "output_type": "stream",
     "text": [
      "Added 4 clauses(s)."
     ]
    }
   ],
   "source": [
    "append([],Q,Q).\n",
    "append([H | P], Q, [H | R]) :- append(P, Q, R).\n",
    "\n",
    "\n",
    "merge([],Y,Y).\n",
    "merge(X,[],X).\n",
    "merge([H1 | T1],[H2 | T2],Z) :- H2 >= H1 , merge(T1,[H2 | T2],Z1) , append([H1],Z1,Z).\n",
    "merge([H1 | T1],[H2 | T2],Z) :- H1 > H2  , merge([H1 | T1],T2,Z1) , append([H2],Z1,Z)."
   ]
  },
  {
   "cell_type": "code",
   "execution_count": 24,
   "metadata": {
    "deletable": false,
    "editable": false,
    "nbgrader": {
     "cell_type": "code",
     "checksum": "c62bbe4fb466cd05e8424d5d7af14c46",
     "grade": true,
     "grade_id": "cell-01713499f0c437b5",
     "locked": true,
     "points": 10,
     "schema_version": 3,
     "solution": false,
     "task": false
    }
   },
   "outputs": [
    {
     "name": "stdout",
     "output_type": "stream",
     "text": [
      "true.\n",
      "true.\n",
      "true."
     ]
    }
   ],
   "source": [
    "/* 10 points */\n",
    "?- merge([],[1],[1]) -> true; abort.\n",
    "?- merge([1],[],[1]) -> true; abort.\n",
    "?- merge([1,3,5],[2,4,6],[1,2,3,4,5,6]) -> true; abort."
   ]
  },
  {
   "cell_type": "markdown",
   "metadata": {
    "deletable": false,
    "editable": false,
    "nbgrader": {
     "cell_type": "markdown",
     "checksum": "ac33b56fe0ffdce00509ae36a448d07a",
     "grade": false,
     "grade_id": "cell-35433d7ff74e5624",
     "locked": true,
     "schema_version": 3,
     "solution": false,
     "task": false
    }
   },
   "source": [
    "## Problem 12\n",
    "\n",
    "Implement predicate `mergesort(L,SL)` where `SL` is the sorted version of `L`. Use the predicate to partition the list `L` into two, sort each on separately (using `mergesort`) and combine the individual sorted list using `merge`. "
   ]
  },
  {
   "cell_type": "code",
   "execution_count": 25,
   "metadata": {
    "deletable": false,
    "nbgrader": {
     "cell_type": "code",
     "checksum": "439f9fc1d1edcadd4edcfa89411497d6",
     "grade": false,
     "grade_id": "cell-74680ae9d990d6a6",
     "locked": false,
     "schema_version": 3,
     "solution": true,
     "task": false
    }
   },
   "outputs": [
    {
     "name": "stdout",
     "output_type": "stream",
     "text": [
      "Added 3 clauses(s)."
     ]
    }
   ],
   "source": [
    "mergesort([],[]).\n",
    "mergesort([H],[H]).\n",
    "mergesort(L,SL) :- partition(L,P,S) , mergesort(P,X) , mergesort(S,Y) , merge(X,Y,SL)."
   ]
  },
  {
   "cell_type": "code",
   "execution_count": 26,
   "metadata": {
    "deletable": false,
    "editable": false,
    "nbgrader": {
     "cell_type": "code",
     "checksum": "f1e5d3d471bbda03ea7b4bf1eedccd6c",
     "grade": true,
     "grade_id": "cell-c3dcfa7223e13980",
     "locked": true,
     "points": 10,
     "schema_version": 3,
     "solution": false,
     "task": false
    }
   },
   "outputs": [
    {
     "name": "stdout",
     "output_type": "stream",
     "text": [
      "true.\n",
      "true.\n",
      "true."
     ]
    }
   ],
   "source": [
    "/* 10 points */\n",
    "?- mergesort([3,2,1],[1,2,3]), ! -> true; abort.\n",
    "?- mergesort([1,2,3],[1,2,3]), ! -> true; abort.\n",
    "?- mergesort([],[]), ! -> true; abort."
   ]
  }
 ],
 "metadata": {
  "kernelspec": {
   "display_name": "SWI-Prolog",
   "language": "",
   "name": "jswipl"
  },
  "language_info": {
   "mimetype": "text/plain",
   "name": "swipl"
  }
 },
 "nbformat": 4,
 "nbformat_minor": 2
}
