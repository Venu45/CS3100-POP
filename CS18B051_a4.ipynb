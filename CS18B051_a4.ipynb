{
 "cells": [
  {
   "cell_type": "markdown",
   "metadata": {},
   "source": [
    "Before you turn this problem in, make sure everything runs as expected. First, **restart the kernel** (in the menubar, select Kernel$\\rightarrow$Restart) and then **run all cells** (in the menubar, select Cell$\\rightarrow$Run All).\n",
    "\n",
    "Make sure you fill in any place that says `YOUR CODE HERE` or \"YOUR ANSWER HERE\", as well as your name below:"
   ]
  },
  {
   "cell_type": "code",
   "execution_count": 1,
   "metadata": {},
   "outputs": [],
   "source": [
    "let name = \"Anumala Venu Madhava Reddy\"\n",
    "let rollno = \"CS18B051\""
   ]
  },
  {
   "cell_type": "markdown",
   "metadata": {},
   "source": [
    "## Important notes about grading:\n",
    "\n",
    "1. **Compiler errors:** All code you submit must compile. Programs that do not compile will probably receive an automatic zero. If you are having trouble getting your assignment to compile, please visit consulting hours. If you run out of time, it is better to comment out the parts that do not compile, than hand in a more complete file that does not compile.\n",
    "2. **Late assignments:** Please carefully review the course website's policy on late assignments, as all assignments handed in after the deadline will be considered late. Verify on moodle that you have submitted the correct version, before the deadline. Submitting the incorrect version before the deadline and realizing that you have done so after the deadline will be counted as a late submission."
   ]
  },
  {
   "cell_type": "markdown",
   "metadata": {
    "deletable": false,
    "editable": false,
    "nbgrader": {
     "cell_type": "markdown",
     "checksum": "480633e06a0d5a0b3a4711846b61b21d",
     "grade": false,
     "grade_id": "cell-dd6a438293120d72",
     "locked": true,
     "schema_version": 3,
     "solution": false,
     "task": false
    }
   },
   "source": [
    "# Monads\n",
    "\n",
    "In this section, we will extend the state monad example from class to implement OCaml-like references. The idea is to use purely functional heaps using functions, and use this as the state used in the state monad. The definition of functional heap is below:"
   ]
  },
  {
   "cell_type": "code",
   "execution_count": 2,
   "metadata": {
    "deletable": false,
    "editable": false,
    "nbgrader": {
     "cell_type": "code",
     "checksum": "d243af23901b74bc844e53508b275406",
     "grade": false,
     "grade_id": "cell-b4476d9ad0e000f1",
     "locked": true,
     "schema_version": 3,
     "solution": false,
     "task": false
    }
   },
   "outputs": [],
   "source": [
    "module type FHEAP = sig\n",
    "  type ('k,'v) t\n",
    "  val empty_heap : ('k,'v) t\n",
    "  val set        : ('k,'v) t -> 'k -> 'v -> ('k,'v) t\n",
    "  val get        : ('k,'v) t -> 'k -> 'v option\n",
    "end\n",
    "\n",
    "module FHeap : FHEAP = struct\n",
    "  type ('k,'v) t = 'k -> 'v option\n",
    "  let empty_heap = fun k -> None\n",
    "  let set h x v = fun k -> if k = x then Some v else h k\n",
    "  let get h x = h x\n",
    "end"
   ]
  },
  {
   "cell_type": "markdown",
   "metadata": {
    "deletable": false,
    "editable": false,
    "nbgrader": {
     "cell_type": "markdown",
     "checksum": "645439caf8b43f7fa0913ad068f60137",
     "grade": false,
     "grade_id": "cell-52007bbc35b0f8a4",
     "locked": true,
     "schema_version": 3,
     "solution": false,
     "task": false
    }
   },
   "source": [
    "Here is how you can use the functional heap."
   ]
  },
  {
   "cell_type": "code",
   "execution_count": 3,
   "metadata": {
    "deletable": false,
    "editable": false,
    "nbgrader": {
     "cell_type": "code",
     "checksum": "4b3f612aaa538e80b2defb4491be03ae",
     "grade": false,
     "grade_id": "cell-71b1543a1f87087f",
     "locked": true,
     "schema_version": 3,
     "solution": false,
     "task": false
    }
   },
   "outputs": [
    {
     "name": "stdout",
     "output_type": "stream",
     "text": [
      "Hello World\n",
      "Hello CS3100 students\n"
     ]
    },
    {
     "data": {
      "text/plain": [
       "- : unit = ()\n"
      ]
     },
     "execution_count": 3,
     "metadata": {},
     "output_type": "execute_result"
    }
   ],
   "source": [
    "let open FHeap in \n",
    "let h = empty_heap in\n",
    "let h = set h 0 \"Hello\" in\n",
    "let h = set h 1 \"World\" in\n",
    "Printf.printf \"%s %s\\n%!\" (Option.get (get h 0)) (Option.get (get h 1));\n",
    "let h = set h 1 \"CS3100 students\" in\n",
    "Printf.printf \"%s %s\\n%!\" (Option.get (get h 0)) (Option.get (get h 1))"
   ]
  },
  {
   "cell_type": "markdown",
   "metadata": {
    "deletable": false,
    "editable": false,
    "nbgrader": {
     "cell_type": "markdown",
     "checksum": "421501360649c5fb556901fb8e99af37",
     "grade": false,
     "grade_id": "cell-9aa37f90f95793eb",
     "locked": true,
     "schema_version": 3,
     "solution": false,
     "task": false
    }
   },
   "source": [
    "Observe that we have to thread through the heap `h` at every step. Just as we had done in the lecture, we will use a monad to implicitly thread through the heap through the comuputation. Here is the monad signature:"
   ]
  },
  {
   "cell_type": "code",
   "execution_count": 4,
   "metadata": {
    "deletable": false,
    "editable": false,
    "nbgrader": {
     "cell_type": "code",
     "checksum": "476946f1e84839a1092c5602cdf7191e",
     "grade": false,
     "grade_id": "cell-89b66befcd052abc",
     "locked": true,
     "schema_version": 3,
     "solution": false,
     "task": false
    }
   },
   "outputs": [
    {
     "data": {
      "text/plain": [
       "module type MONAD =\n",
       "  sig\n",
       "    type 'a t\n",
       "    val return : 'a -> 'a t\n",
       "    val ( let* ) : 'a t -> ('a -> 'b t) -> 'b t\n",
       "  end\n"
      ]
     },
     "execution_count": 4,
     "metadata": {},
     "output_type": "execute_result"
    }
   ],
   "source": [
    "module type MONAD = sig\n",
    "  type 'a t\n",
    "  val return : 'a -> 'a t\n",
    "  val (let*)  : 'a t -> ('a -> 'b t) -> 'b t\n",
    "end"
   ]
  },
  {
   "cell_type": "markdown",
   "metadata": {
    "deletable": false,
    "editable": false,
    "nbgrader": {
     "cell_type": "markdown",
     "checksum": "eed5ad8d87de0db0620458324a755c22",
     "grade": false,
     "grade_id": "cell-4ad2601816d11b86",
     "locked": true,
     "schema_version": 3,
     "solution": false,
     "task": false
    }
   },
   "source": [
    "## Multiple References of the same type\n",
    "\n",
    "First we will start with a monad that allows creation of new reference cells, read and update them but restricted to storing the same type of value. You will implement the `Ref_monad` module with the following signature:"
   ]
  },
  {
   "cell_type": "code",
   "execution_count": 5,
   "metadata": {
    "deletable": false,
    "editable": false,
    "nbgrader": {
     "cell_type": "code",
     "checksum": "abfe27acb9f77b0dc181f2be1a24d4af",
     "grade": false,
     "grade_id": "cell-5484fbfc6111e21e",
     "locked": true,
     "schema_version": 3,
     "solution": false,
     "task": false
    }
   },
   "outputs": [
    {
     "data": {
      "text/plain": [
       "module type REF_MONAD =\n",
       "  sig\n",
       "    type value\n",
       "    type ref\n",
       "    type 'a t\n",
       "    val return : 'a -> 'a t\n",
       "    val ( let* ) : 'a t -> ('a -> 'b t) -> 'b t\n",
       "    val mk_ref : value -> ref t\n",
       "    val ( ! ) : ref -> value t\n",
       "    val ( := ) : ref -> value -> unit t\n",
       "    val run_state : 'a t -> 'a\n",
       "  end\n"
      ]
     },
     "execution_count": 5,
     "metadata": {},
     "output_type": "execute_result"
    }
   ],
   "source": [
    "module type REF_MONAD = sig\n",
    "  type value   (* type of value *)\n",
    "  type ref     (* type of reference *)\n",
    "  include MONAD\n",
    "  val mk_ref : value -> ref t\n",
    "  val (!) : ref -> value t\n",
    "  val (:=) : ref -> value -> unit t\n",
    "  val run_state : 'a t -> 'a\n",
    "end"
   ]
  },
  {
   "cell_type": "markdown",
   "metadata": {
    "deletable": false,
    "editable": false,
    "nbgrader": {
     "cell_type": "markdown",
     "checksum": "b4489c8e8459e1660fdf18d188826c76",
     "grade": false,
     "grade_id": "cell-503c866f8d64a2d8",
     "locked": true,
     "schema_version": 3,
     "solution": false,
     "task": false
    }
   },
   "source": [
    "Notice that `mk_ref` creates \"fresh\" reference cells. These reference cells are different from every other reference cell that has already been created or will be created in this monad. This property is known as **generativity**. We had seen a similar concept when we defined `fresh` for substitutions in the lambda calculus assignement (assignment 2). \n",
    "\n",
    "We can simulate freshness by using a counter value `c`, whose state is also maintained as part of the state. Everytime you want to create a fresh reference, update this counter `c`. We will use this counter to index into the functional heap. Hence, the reference itself (`ref` type) is just an integer. \n",
    "\n",
    "## Problem 1: Implement the Ref_monad"
   ]
  },
  {
   "cell_type": "code",
   "execution_count": 6,
   "metadata": {
    "deletable": false,
    "nbgrader": {
     "cell_type": "code",
     "checksum": "364addcf97ff51a0b3ff7b48ed8882b2",
     "grade": false,
     "grade_id": "cell-dc4671801c88ce03",
     "locked": false,
     "schema_version": 3,
     "solution": true,
     "task": false
    }
   },
   "outputs": [
    {
     "data": {
      "text/plain": [
       "module Ref_monad :\n",
       "  functor (V : sig type t end) ->\n",
       "    sig\n",
       "      type value = V.t\n",
       "      type ref\n",
       "      type 'a t\n",
       "      val return : 'a -> 'a t\n",
       "      val ( let* ) : 'a t -> ('a -> 'b t) -> 'b t\n",
       "      val mk_ref : value -> ref t\n",
       "      val ( ! ) : ref -> value t\n",
       "      val ( := ) : ref -> value -> unit t\n",
       "      val run_state : 'a t -> 'a\n",
       "    end\n"
      ]
     },
     "execution_count": 6,
     "metadata": {},
     "output_type": "execute_result"
    }
   ],
   "source": [
    "module Ref_monad (V : sig type t end)\n",
    "  : REF_MONAD with type value = V.t = struct\n",
    "  type value = V.t\n",
    "  type ref = int (* just an index into the FHeap.t *)\n",
    "  type 'a t = \n",
    "    int (* counter *) * (int, value) FHeap.t (* heap indexed by ref *) -> \n",
    "    int (* new counter *) * (int, value) FHeap.t (* new heap *) * 'a \n",
    "    \n",
    "    \n",
    "\n",
    "  let return a = fun (c,h) -> (c,h,a)\n",
    "  \n",
    "  \n",
    "  let ( let* ) m f = fun (c,h) -> ( match m (c,h) with\n",
    "                                  |(c',h',a') -> (f a') (c',h')\n",
    "                                  ) \n",
    "                                  \n",
    "  let mk_ref v = fun (c,h) -> (c+1,( FHeap.set h (c+1) v) , (c+1) )\n",
    "  \n",
    "  let (!) c = fun (c',h) -> (c',h,( Option.get (FHeap.get h c) ) )\n",
    "  \n",
    "  let (:=) c v = fun (c',h) -> (c',FHeap.set h c v , ())\n",
    "  \n",
    "  let run_state a = \n",
    "      begin match a (0,FHeap.empty_heap) with\n",
    "      |(c,h,v) -> v\n",
    "      end;\n",
    "    \n",
    "  \n",
    "  \n",
    "  (* Implement the missing functions *)\n",
    "  (* YOUR CODE HERE *)\n",
    "end"
   ]
  },
  {
   "cell_type": "code",
   "execution_count": 7,
   "metadata": {
    "deletable": false,
    "editable": false,
    "nbgrader": {
     "cell_type": "code",
     "checksum": "2cf39cd56f188e7fd4fa54fa3586496a",
     "grade": true,
     "grade_id": "cell-eececbbf45249d3e",
     "locked": true,
     "points": 5,
     "schema_version": 3,
     "solution": false,
     "task": false
    }
   },
   "outputs": [
    {
     "data": {
      "text/plain": [
       "- : unit = ()\n"
      ]
     },
     "execution_count": 7,
     "metadata": {},
     "output_type": "execute_result"
    }
   ],
   "source": [
    "(* 5 points *)\n",
    "let module R = Ref_monad(struct type t = int end) in\n",
    "let open R in\n",
    "let module M = struct\n",
    "  let program = \n",
    "    let* i = mk_ref 10 in\n",
    "    !i\n",
    "end\n",
    "in assert (run_state M.program = 10)\n"
   ]
  },
  {
   "cell_type": "code",
   "execution_count": 8,
   "metadata": {
    "deletable": false,
    "editable": false,
    "nbgrader": {
     "cell_type": "code",
     "checksum": "ae005b17b87c6d2e510bddcab8d8bb86",
     "grade": true,
     "grade_id": "cell-eececbbf45249d3f",
     "locked": true,
     "points": 5,
     "schema_version": 3,
     "solution": false,
     "task": false
    }
   },
   "outputs": [
    {
     "data": {
      "text/plain": [
       "- : unit = ()\n"
      ]
     },
     "execution_count": 8,
     "metadata": {},
     "output_type": "execute_result"
    }
   ],
   "source": [
    "(* 5 points *)\n",
    "let module R = Ref_monad(struct type t = int end) in\n",
    "let open R in \n",
    "let module M = struct\n",
    "  let program = \n",
    "    let* i = mk_ref 10 in\n",
    "    let* iv = !i in\n",
    "    let* _ = (i := iv + 1) in\n",
    "    !i\n",
    "  end \n",
    "in assert (run_state M.program = 11)\n"
   ]
  },
  {
   "cell_type": "code",
   "execution_count": 9,
   "metadata": {
    "deletable": false,
    "editable": false,
    "nbgrader": {
     "cell_type": "code",
     "checksum": "663080251161fcce8c13b2110244259d",
     "grade": true,
     "grade_id": "cell-3b7dd52d95d10ce7",
     "locked": true,
     "points": 10,
     "schema_version": 3,
     "solution": false,
     "task": false
    }
   },
   "outputs": [
    {
     "data": {
      "text/plain": [
       "- : unit = ()\n"
      ]
     },
     "execution_count": 9,
     "metadata": {},
     "output_type": "execute_result"
    }
   ],
   "source": [
    "(* 10 points *)\n",
    "let module R = Ref_monad(struct type t = int end) in\n",
    "let open R in\n",
    "let module M = struct\n",
    "  let program = \n",
    "    let* i = mk_ref 10 in\n",
    "    let* j = mk_ref 20 in\n",
    "    let* iv = !i in\n",
    "    let* _ = i := iv + 1 in\n",
    "    let* jv = !j in\n",
    "    let* iv = !i in\n",
    "    return (iv + jv)\n",
    "end\n",
    "in assert(run_state M.program = 31)\n"
   ]
  },
  {
   "cell_type": "markdown",
   "metadata": {
    "deletable": false,
    "editable": false,
    "nbgrader": {
     "cell_type": "markdown",
     "checksum": "99123f4b491324abe2e785e86777be50",
     "grade": false,
     "grade_id": "cell-36d765855c583814",
     "locked": true,
     "schema_version": 3,
     "solution": false,
     "task": false
    }
   },
   "source": [
    "## Polymorphic Refences\n",
    "\n",
    "Let us now graduate to implementing references of different types. It turns out that storing different typed values in a key-value map and retrieving it back is tricky; every `value` that is put into a given map must be the same. Luckily, we have a concept called universal types that provides a way to safely go from arbitrary types to the universal type and back. Here is an implementation of universal type in OCaml:"
   ]
  },
  {
   "cell_type": "code",
   "execution_count": 10,
   "metadata": {
    "deletable": false,
    "editable": false,
    "nbgrader": {
     "cell_type": "code",
     "checksum": "75ef44a007073bdbe15b9e8c669cb86b",
     "grade": false,
     "grade_id": "cell-d7ab587bd17762ec",
     "locked": true,
     "schema_version": 3,
     "solution": false,
     "task": false
    }
   },
   "outputs": [
    {
     "data": {
      "text/plain": [
       "module Univ :\n",
       "  sig\n",
       "    type t\n",
       "    type 'a packer = { pack : 'a -> t; unpack : t -> 'a option; }\n",
       "    val mk : unit -> 'a packer\n",
       "  end\n"
      ]
     },
     "execution_count": 10,
     "metadata": {},
     "output_type": "execute_result"
    }
   ],
   "source": [
    "module Univ : sig\n",
    "  type t\n",
    "  type 'a packer = {pack : 'a -> t; unpack : t -> 'a option}\n",
    "  val mk : unit -> 'a packer\n",
    "end = struct\n",
    "  type t = exn\n",
    "  type 'a packer = {pack : 'a -> t; unpack : t -> 'a option}\n",
    "  let mk : type a. unit -> a packer = fun () ->\n",
    "    let module M () = struct exception E of a end in\n",
    "    let module F = M () in\n",
    "    {pack = (fun v -> F.E v); \n",
    "     unpack = fun p -> match p with F.E v -> Some v | _ -> None}\n",
    "end"
   ]
  },
  {
   "cell_type": "markdown",
   "metadata": {
    "deletable": false,
    "editable": false,
    "nbgrader": {
     "cell_type": "markdown",
     "checksum": "7a20cf67b727e4dead48ef138d65daf5",
     "grade": false,
     "grade_id": "cell-3b7c6374d908b49b",
     "locked": true,
     "schema_version": 3,
     "solution": false,
     "task": false
    }
   },
   "source": [
    "The implementation details are not important. The `mk` function returns a packer for an arbitrary type, which includes an function to pack values of this arbitrary type to the universal type and unpack such a type. Here is how you might use the functions."
   ]
  },
  {
   "cell_type": "code",
   "execution_count": 11,
   "metadata": {
    "deletable": false,
    "editable": false,
    "nbgrader": {
     "cell_type": "code",
     "checksum": "8ac1919a0aae3046c622bf595eaec2b4",
     "grade": false,
     "grade_id": "cell-2da78575eb013603",
     "locked": true,
     "schema_version": 3,
     "solution": false,
     "task": false
    }
   },
   "outputs": [
    {
     "data": {
      "text/plain": [
       "module M :\n",
       "  sig\n",
       "    type t = Univ.t\n",
       "    type 'a packer =\n",
       "      'a Univ.packer = {\n",
       "      pack : 'a -> t;\n",
       "      unpack : t -> 'a option;\n",
       "    }\n",
       "    val mk : unit -> 'a packer\n",
       "    val int_packer : int packer\n",
       "    val float_packer : float packer\n",
       "    val l : t list\n",
       "    val get : 'a packer -> t list -> 'a option\n",
       "  end\n"
      ]
     },
     "execution_count": 11,
     "metadata": {},
     "output_type": "execute_result"
    },
    {
     "data": {
      "text/plain": [
       "- : int option = Some 10\n"
      ]
     },
     "execution_count": 11,
     "metadata": {},
     "output_type": "execute_result"
    },
    {
     "data": {
      "text/plain": [
       "- : float option = Some 20.25\n"
      ]
     },
     "execution_count": 11,
     "metadata": {},
     "output_type": "execute_result"
    }
   ],
   "source": [
    "module M = struct\n",
    "  include Univ\n",
    "  let int_packer = mk ()\n",
    "  let float_packer = mk ()\n",
    "  \n",
    "  let l = [int_packer.pack 10; float_packer.pack 20.25]\n",
    "  \n",
    "  let rec get packer l =\n",
    "    match l with\n",
    "    | [] -> None\n",
    "    | x::xs -> \n",
    "        match packer.unpack x with\n",
    "        | Some v -> Some v\n",
    "        | None -> get packer xs\n",
    "end;;\n",
    "\n",
    "M.get M.int_packer M.l;;\n",
    "M.get M.float_packer M.l\n"
   ]
  },
  {
   "cell_type": "markdown",
   "metadata": {
    "deletable": false,
    "editable": false,
    "nbgrader": {
     "cell_type": "markdown",
     "checksum": "7da5a61a5562fc3b67b8e07feef234a3",
     "grade": false,
     "grade_id": "cell-b5899e3ec061bef1",
     "locked": true,
     "schema_version": 3,
     "solution": false,
     "task": false
    }
   },
   "source": [
    "The important thing to notice above is the type of `get` function. Given a `'a packer` and a list of universal values, the function retrieves the value packed with the given packer.\n",
    "\n",
    "## Problem 2\n",
    "\n",
    "Use the universal type to implement a polymorphic reference cell monad with the following signature. "
   ]
  },
  {
   "cell_type": "code",
   "execution_count": 12,
   "metadata": {
    "deletable": false,
    "editable": false,
    "nbgrader": {
     "cell_type": "code",
     "checksum": "76d78c50a078168cf14d2c9acb512b70",
     "grade": false,
     "grade_id": "cell-02c485f8ffeeaa92",
     "locked": true,
     "schema_version": 3,
     "solution": false,
     "task": false
    }
   },
   "outputs": [
    {
     "data": {
      "text/plain": [
       "module type POLY_REF_MONAD =\n",
       "  sig\n",
       "    type 'a ref\n",
       "    type 'a t\n",
       "    val return : 'a -> 'a t\n",
       "    val ( let* ) : 'a t -> ('a -> 'b t) -> 'b t\n",
       "    val mk_ref : 'a -> 'a ref t\n",
       "    val ( ! ) : 'a ref -> 'a t\n",
       "    val ( := ) : 'a ref -> 'a -> unit t\n",
       "    val run_state : 'a t -> 'a\n",
       "  end\n"
      ]
     },
     "execution_count": 12,
     "metadata": {},
     "output_type": "execute_result"
    }
   ],
   "source": [
    "module type POLY_REF_MONAD = sig\n",
    "  type 'a ref (* type of reference *)\n",
    "  include MONAD\n",
    "  val mk_ref : 'a -> 'a ref t\n",
    "  val (!) : 'a ref -> 'a t\n",
    "  val (:=) : 'a ref -> 'a -> unit t\n",
    "  val run_state : 'a t -> 'a\n",
    "end"
   ]
  },
  {
   "cell_type": "markdown",
   "metadata": {
    "deletable": false,
    "editable": false,
    "nbgrader": {
     "cell_type": "markdown",
     "checksum": "adf552edfc6cc0f39e0843a52d8145bf",
     "grade": false,
     "grade_id": "cell-175c57e5a08ae7b8",
     "locked": true,
     "schema_version": 3,
     "solution": false,
     "task": false
    }
   },
   "source": [
    "Observe in the following that the reference cell is not just an integer but also includes the packer. Use this packer to pack the values before inserting into the heap and unpack after retrieving from the heap."
   ]
  },
  {
   "cell_type": "code",
   "execution_count": 13,
   "metadata": {
    "deletable": false,
    "nbgrader": {
     "cell_type": "code",
     "checksum": "4d24256469b0928cf6e36cfc04c29fc8",
     "grade": false,
     "grade_id": "cell-376afc9e717e4aa2",
     "locked": false,
     "schema_version": 3,
     "solution": true,
     "task": false
    }
   },
   "outputs": [
    {
     "data": {
      "text/plain": [
       "module Poly_ref_monad : POLY_REF_MONAD\n"
      ]
     },
     "execution_count": 13,
     "metadata": {},
     "output_type": "execute_result"
    }
   ],
   "source": [
    "module Poly_ref_monad : POLY_REF_MONAD = struct\n",
    "  type 'a ref = int * 'a Univ.packer\n",
    "  type 'a t = int * (int, Univ.t) FHeap.t -> int * (int, Univ.t) FHeap.t * 'a\n",
    "  \n",
    "  open Univ\n",
    "  \n",
    "  let return a = fun (c,h) -> (c,h,a)\n",
    "  \n",
    "  let ( let*) m f = fun (c,h) -> ( match m (c,h) with\n",
    "                                  |(c',h',a') -> (f a') (c',h')\n",
    "                                  ) \n",
    "                                  \n",
    "  let mk_ref v = let pac = mk()  in fun (c,h) -> (c+1, (FHeap.set h (c+1) (pac.pack v)  ) , (c+1,pac ) )\n",
    "  \n",
    "  let (!) c1 = \n",
    "      ( match c1 with\n",
    "      |(c,pac) -> fun(c',h) -> (c',h,Option.get(pac.unpack(Option.get (FHeap.get h c ) ) ) )\n",
    "      )\n",
    "  \n",
    "  let (:=) c2 v = \n",
    "      (match c2 with \n",
    "      |(c,pac) -> fun (c',h) -> (c', (FHeap.set h c (pac.pack v ))  ,() )\n",
    "      )\n",
    "  \n",
    "  let run_state a = \n",
    "      begin match a (0,FHeap.empty_heap) with\n",
    "      |(c,h,v) -> v\n",
    "      end;\n",
    "    \n",
    "  \n",
    "\n",
    "  (* Implement the missing functions *)\n",
    "\n",
    "(* YOUR CODE HERE *)\n",
    "end"
   ]
  },
  {
   "cell_type": "code",
   "execution_count": 14,
   "metadata": {
    "deletable": false,
    "editable": false,
    "nbgrader": {
     "cell_type": "code",
     "checksum": "e43028a68fd6635e715ca3e4ed221549",
     "grade": true,
     "grade_id": "cell-6e20c081c767dc8b",
     "locked": true,
     "points": 10,
     "schema_version": 3,
     "solution": false,
     "task": false
    }
   },
   "outputs": [
    {
     "data": {
      "text/plain": [
       "- : unit = ()\n"
      ]
     },
     "execution_count": 14,
     "metadata": {},
     "output_type": "execute_result"
    }
   ],
   "source": [
    "(* 10 points *)\n",
    "let module M = struct\n",
    "  open Poly_ref_monad\n",
    "\n",
    "  let program = \n",
    "    let* i = mk_ref 10 in\n",
    "    let* s = mk_ref \"20\" in\n",
    "    return ()\n",
    "  end \n",
    "in assert (Poly_ref_monad.run_state M.program = ())\n"
   ]
  },
  {
   "cell_type": "code",
   "execution_count": 15,
   "metadata": {
    "deletable": false,
    "editable": false,
    "nbgrader": {
     "cell_type": "code",
     "checksum": "f7dd63b05b015c54b1322fd40192a975",
     "grade": true,
     "grade_id": "cell-40c81c9b77a40766",
     "locked": true,
     "points": 10,
     "schema_version": 3,
     "solution": false,
     "task": false
    }
   },
   "outputs": [
    {
     "data": {
      "text/plain": [
       "- : unit = ()\n"
      ]
     },
     "execution_count": 15,
     "metadata": {},
     "output_type": "execute_result"
    }
   ],
   "source": [
    "(* 10 points *)\n",
    "let open Poly_ref_monad in\n",
    "let module M = struct\n",
    "  let program = \n",
    "    let* i = mk_ref 10 in\n",
    "    let* s = mk_ref \"20\" in\n",
    "    let* iv = !i in\n",
    "    let* _ = i := iv + 1 in\n",
    "    let* sv = !s in\n",
    "    let* iv = !i in\n",
    "    return (iv + int_of_string sv)\n",
    "end\n",
    "in assert (run_state M.program = 31)\n"
   ]
  },
  {
   "cell_type": "markdown",
   "metadata": {
    "deletable": false,
    "editable": false,
    "nbgrader": {
     "cell_type": "markdown",
     "checksum": "5a6825f198ec2d5482f648812dc43f10",
     "grade": false,
     "grade_id": "cell-cfe1b372c23f74ec",
     "locked": true,
     "schema_version": 3,
     "solution": false,
     "task": false
    }
   },
   "source": [
    "# Streams\n",
    "\n",
    "Consider the standard lazy stream definition."
   ]
  },
  {
   "cell_type": "code",
   "execution_count": 16,
   "metadata": {
    "deletable": false,
    "editable": false,
    "nbgrader": {
     "cell_type": "code",
     "checksum": "0d28b9f965e2308ea4aed3e11e0e229f",
     "grade": false,
     "grade_id": "cell-f08965ac167b65d5",
     "locked": true,
     "schema_version": 3,
     "solution": false,
     "task": false
    }
   },
   "outputs": [
    {
     "data": {
      "text/plain": [
       "type 'a stream = Cons of 'a * 'a stream Lazy.t\n"
      ]
     },
     "execution_count": 16,
     "metadata": {},
     "output_type": "execute_result"
    },
    {
     "data": {
      "text/plain": [
       "val hd : 'a stream -> 'a = <fun>\n"
      ]
     },
     "execution_count": 16,
     "metadata": {},
     "output_type": "execute_result"
    },
    {
     "data": {
      "text/plain": [
       "val tl : 'a stream -> 'a stream = <fun>\n"
      ]
     },
     "execution_count": 16,
     "metadata": {},
     "output_type": "execute_result"
    },
    {
     "data": {
      "text/plain": [
       "val take : int -> 'a stream -> 'a list = <fun>\n"
      ]
     },
     "execution_count": 16,
     "metadata": {},
     "output_type": "execute_result"
    }
   ],
   "source": [
    "type 'a stream = Cons of 'a * 'a stream Lazy.t\n",
    "\n",
    "let hd (Cons(x,_)) = x\n",
    "let tl (Cons(x,xs)) = Lazy.force xs\n",
    "let rec take n s =\n",
    "  if n = 0 then []\n",
    "  else hd s::(take (n-1) (tl s))"
   ]
  },
  {
   "cell_type": "markdown",
   "metadata": {
    "deletable": false,
    "editable": false,
    "nbgrader": {
     "cell_type": "markdown",
     "checksum": "1570863831b504c3c25d51fbcfcc7af6",
     "grade": false,
     "grade_id": "cell-8e82b7e0a6662a3b",
     "locked": true,
     "schema_version": 3,
     "solution": false,
     "task": false
    }
   },
   "source": [
    "## Problem 3\n",
    "\n",
    "Define a value `pow2 : int stream` whose elements are the powers of two: `<1; 2; 4; 8; 16, ...>`"
   ]
  },
  {
   "cell_type": "code",
   "execution_count": 17,
   "metadata": {
    "deletable": false,
    "nbgrader": {
     "cell_type": "code",
     "checksum": "e72c8f4dcd3475c3a02394227d3316c0",
     "grade": false,
     "grade_id": "cell-828fb6b82d343541",
     "locked": false,
     "schema_version": 3,
     "solution": true,
     "task": false
    }
   },
   "outputs": [
    {
     "data": {
      "text/plain": [
       "val mult : int -> int -> int = <fun>\n"
      ]
     },
     "execution_count": 17,
     "metadata": {},
     "output_type": "execute_result"
    },
    {
     "data": {
      "text/plain": [
       "val zip : ('a -> 'b -> 'c) -> 'a stream -> 'b stream -> 'c stream = <fun>\n"
      ]
     },
     "execution_count": 17,
     "metadata": {},
     "output_type": "execute_result"
    },
    {
     "data": {
      "text/plain": [
       "val twos : int stream = Cons (2, <cycle>)\n"
      ]
     },
     "execution_count": 17,
     "metadata": {},
     "output_type": "execute_result"
    },
    {
     "data": {
      "text/plain": [
       "val pow2 : int stream = Cons (1, <lazy>)\n"
      ]
     },
     "execution_count": 17,
     "metadata": {},
     "output_type": "execute_result"
    }
   ],
   "source": [
    "let mult a b = a*b\n",
    "\n",
    "let rec zip f s1 s2 = Cons (f (hd s1) (hd s2), lazy(zip f (tl s1) (tl s2)) )\n",
    "\n",
    "let rec twos = Cons(2, lazy(twos))\n",
    "\n",
    "let rec pow2 = Cons(1,lazy(Cons(2,lazy( zip mult twos (tl pow2) ))))"
   ]
  },
  {
   "cell_type": "code",
   "execution_count": 18,
   "metadata": {
    "deletable": false,
    "editable": false,
    "nbgrader": {
     "cell_type": "code",
     "checksum": "40b45b9fc01b6c46f3ab314331d5524e",
     "grade": true,
     "grade_id": "cell-d5b80ce267a058d0",
     "locked": true,
     "points": 10,
     "schema_version": 3,
     "solution": false,
     "task": false
    }
   },
   "outputs": [
    {
     "data": {
      "text/plain": [
       "- : unit = ()\n"
      ]
     },
     "execution_count": 18,
     "metadata": {},
     "output_type": "execute_result"
    }
   ],
   "source": [
    "(* 10 points *)\n",
    "assert (List.hd (List.rev (take 10 pow2)) = 512)"
   ]
  },
  {
   "cell_type": "markdown",
   "metadata": {
    "deletable": false,
    "editable": false,
    "nbgrader": {
     "cell_type": "markdown",
     "checksum": "1e8a258e2102d1a497f4a2bb84bbb780",
     "grade": false,
     "grade_id": "cell-ed97539f245b391f",
     "locked": true,
     "schema_version": 3,
     "solution": false,
     "task": false
    }
   },
   "source": [
    "## Problem 4\n",
    "\n",
    "Define a function `interleave : 'a stream -> 'a stream -> 'a stream`, such that `interleave <a1; a2; a3; ...> <b1; b2; b3; ...>` is the stream `<a1; b1; a2; b2; a3; b3; ...>`. For example, `interleave nats pow2` would be `<0; 1; 1; 2; 2; 4; 3; 8; ...>`."
   ]
  },
  {
   "cell_type": "code",
   "execution_count": 19,
   "metadata": {
    "deletable": false,
    "nbgrader": {
     "cell_type": "code",
     "checksum": "48804c4eb06ac42bf05ad050e57307fd",
     "grade": false,
     "grade_id": "cell-349b66b63065d086",
     "locked": false,
     "schema_version": 3,
     "solution": true,
     "task": false
    }
   },
   "outputs": [
    {
     "data": {
      "text/plain": [
       "val inter : 'a -> 'a -> int -> 'a = <fun>\n"
      ]
     },
     "execution_count": 19,
     "metadata": {},
     "output_type": "execute_result"
    },
    {
     "data": {
      "text/plain": [
       "val join : 'a stream -> 'a stream -> int -> 'a stream = <fun>\n"
      ]
     },
     "execution_count": 19,
     "metadata": {},
     "output_type": "execute_result"
    },
    {
     "data": {
      "text/plain": [
       "val interleave : 'a stream -> 'a stream -> 'a stream = <fun>\n"
      ]
     },
     "execution_count": 19,
     "metadata": {},
     "output_type": "execute_result"
    }
   ],
   "source": [
    "let inter x y count = if count mod 2 = 0 then x else y\n",
    "\n",
    "let rec join s1 s2 count = Cons(inter (hd s1) (hd s2) count,lazy(join (tl s1) (tl s2 ) (count+1) ))\n",
    "\n",
    "let interleave s1 s2 = join s1 s2 0\n"
   ]
  },
  {
   "cell_type": "code",
   "execution_count": 20,
   "metadata": {
    "deletable": false,
    "editable": false,
    "nbgrader": {
     "cell_type": "code",
     "checksum": "ff6e10a8f8f1346758fe9896f856cd0a",
     "grade": true,
     "grade_id": "cell-19f182bb80fcb381",
     "locked": true,
     "points": 15,
     "schema_version": 3,
     "solution": false,
     "task": false
    }
   },
   "outputs": [
    {
     "data": {
      "text/plain": [
       "- : unit = ()\n"
      ]
     },
     "execution_count": 20,
     "metadata": {},
     "output_type": "execute_result"
    }
   ],
   "source": [
    "(* 15 points *)\n",
    "let rec zeros = Cons(0,lazy zeros) in\n",
    "let rec ones = Cons(1,lazy ones) in\n",
    "assert (take 10 (interleave zeros ones) = [0; 1; 0; 1; 0; 1; 0; 1; 0; 1])"
   ]
  },
  {
   "cell_type": "markdown",
   "metadata": {
    "deletable": false,
    "editable": false,
    "nbgrader": {
     "cell_type": "markdown",
     "checksum": "b5cb3174f3d974a3ec24d22054b4f95c",
     "grade": false,
     "grade_id": "cell-b6e352e2d01a0963",
     "locked": true,
     "schema_version": 3,
     "solution": false,
     "task": false
    }
   },
   "source": [
    "## Approximately e\n",
    "\n",
    "The exponential function  $e^x$  can be computed by the following infinite sum:\n",
    "\n",
    "\\\\[\n",
    "e^x = \\frac{x^0}{0!} + \\frac{x^1}{1!} + \\frac{x^2}{2!} + \\ldots + \\frac{x^k}{k!} + \\ldots\n",
    "\\\\]\n",
    "\n",
    "## Problem 5\n",
    "\n",
    "Define a function `e_terms : float -> float stream`. Element `k` of the stream should be term `k` from the infinite sum. For example, `e_terms 1.0` is the stream `<1.0; 1.0; 0.5; 0.1666...; 0.041666...; ...>`. The easy way to compute that involves a function that computes $f(k)=\\frac{x^k}{k!}$. "
   ]
  },
  {
   "cell_type": "code",
   "execution_count": 21,
   "metadata": {
    "deletable": false,
    "nbgrader": {
     "cell_type": "code",
     "checksum": "4a0c77e0d164af8011fa4166e648db7c",
     "grade": false,
     "grade_id": "cell-7e102fd383791cde",
     "locked": false,
     "schema_version": 3,
     "solution": true,
     "task": false
    }
   },
   "outputs": [
    {
     "data": {
      "text/plain": [
       "val div : float -> float -> float = <fun>\n"
      ]
     },
     "execution_count": 21,
     "metadata": {},
     "output_type": "execute_result"
    },
    {
     "data": {
      "text/plain": [
       "val mult : float -> float -> float = <fun>\n"
      ]
     },
     "execution_count": 21,
     "metadata": {},
     "output_type": "execute_result"
    },
    {
     "data": {
      "text/plain": [
       "val zip : ('a -> 'b -> 'c) -> 'a stream -> 'b stream -> 'c stream = <fun>\n"
      ]
     },
     "execution_count": 21,
     "metadata": {},
     "output_type": "execute_result"
    },
    {
     "data": {
      "text/plain": [
       "val pow : 'a -> 'a stream = <fun>\n"
      ]
     },
     "execution_count": 21,
     "metadata": {},
     "output_type": "execute_result"
    },
    {
     "data": {
      "text/plain": [
       "val nume : float -> float stream = <fun>\n"
      ]
     },
     "execution_count": 21,
     "metadata": {},
     "output_type": "execute_result"
    },
    {
     "data": {
      "text/plain": [
       "val from : float -> float stream = <fun>\n"
      ]
     },
     "execution_count": 21,
     "metadata": {},
     "output_type": "execute_result"
    },
    {
     "data": {
      "text/plain": [
       "val denom : float stream = Cons (1., <lazy>)\n"
      ]
     },
     "execution_count": 21,
     "metadata": {},
     "output_type": "execute_result"
    },
    {
     "data": {
      "text/plain": [
       "val denum : float stream = Cons (1., lazy (Cons (1., <lazy>)))\n"
      ]
     },
     "execution_count": 21,
     "metadata": {},
     "output_type": "execute_result"
    },
    {
     "data": {
      "text/plain": [
       "val e_terms : float -> float stream = <fun>\n"
      ]
     },
     "execution_count": 21,
     "metadata": {},
     "output_type": "execute_result"
    }
   ],
   "source": [
    "let div a b = Float.div a b\n",
    "\n",
    "let mult a b = Float.mul a b\n",
    "\n",
    "let rec zip f s1 s2 = Cons (f (hd s1) (hd s2), lazy(zip f (tl s1) (tl s2)) )\n",
    "\n",
    "   (* let rec twos = Cons(2, lazy(twos))  *)\n",
    "\n",
    "let  pow x  = let rec  pox = Cons(x,lazy(pox)) in pox\n",
    "\n",
    "let nume x = let rec powof = Cons(1.,lazy(Cons(x,lazy( zip mult (pow x) (tl powof) )))) in powof\n",
    "\n",
    "let rec from n = Cons (n, lazy( from (n+.1.)) )\n",
    "\n",
    "let rec denom = Cons(1.,lazy(  Cons(2.,lazy(zip mult (from 3.) (tl denom)))  ))\n",
    "\n",
    "let denum = Cons(1.,lazy(denom))\n",
    "\n",
    "let e_terms x = zip div (nume x) (denum)"
   ]
  },
  {
   "cell_type": "code",
   "execution_count": 22,
   "metadata": {
    "deletable": false,
    "editable": false,
    "nbgrader": {
     "cell_type": "code",
     "checksum": "d3e1193e0db59de6424fbf0982bb7c34",
     "grade": true,
     "grade_id": "cell-ec9522b7fab583a1",
     "locked": true,
     "points": 10,
     "schema_version": 3,
     "solution": false,
     "task": false
    }
   },
   "outputs": [
    {
     "data": {
      "text/plain": [
       "- : unit = ()\n"
      ]
     },
     "execution_count": 22,
     "metadata": {},
     "output_type": "execute_result"
    }
   ],
   "source": [
    "(* 10 points *)\n",
    "assert (Float.round(List.hd (List.rev (take 10 (e_terms 1.0))) *. (10. ** 9.)) = 2756.)"
   ]
  },
  {
   "cell_type": "markdown",
   "metadata": {
    "deletable": false,
    "editable": false,
    "nbgrader": {
     "cell_type": "markdown",
     "checksum": "63103a80e7208b81e80c7546b4936c21",
     "grade": false,
     "grade_id": "cell-bf31f52d9eda85f3",
     "locked": true,
     "schema_version": 3,
     "solution": false,
     "task": false
    }
   },
   "source": [
    "## Problem 6\n",
    "\n",
    "Define a function `total : float stream -> float stream`, such that `total <a; b; c; ...>` is a running total of the input elements, i.e., `<a; a+.b; a+.b+.c; ...>`."
   ]
  },
  {
   "cell_type": "code",
   "execution_count": 23,
   "metadata": {
    "deletable": false,
    "nbgrader": {
     "cell_type": "code",
     "checksum": "ca91e6e71d6ca3948d18e04b3b273848",
     "grade": false,
     "grade_id": "cell-94741f61efb06414",
     "locked": false,
     "schema_version": 3,
     "solution": true,
     "task": false
    }
   },
   "outputs": [
    {
     "data": {
      "text/plain": [
       "val add : float -> float -> float = <fun>\n"
      ]
     },
     "execution_count": 23,
     "metadata": {},
     "output_type": "execute_result"
    },
    {
     "data": {
      "text/plain": [
       "val zip : ('a -> 'b -> 'c) -> 'a stream -> 'b stream -> 'c stream = <fun>\n"
      ]
     },
     "execution_count": 23,
     "metadata": {},
     "output_type": "execute_result"
    },
    {
     "data": {
      "text/plain": [
       "val total : float stream -> float stream = <fun>\n"
      ]
     },
     "execution_count": 23,
     "metadata": {},
     "output_type": "execute_result"
    }
   ],
   "source": [
    "let add a b = Float.add a b\n",
    "\n",
    "let rec zip f s1 s2 = Cons (f (hd s1) (hd s2), lazy(zip f (tl s1) (tl s2)) )\n",
    "\n",
    "let total s = let rec tem = Cons((hd s),lazy(Cons((hd s) +. (hd (tl s)),\n",
    "                                            lazy(zip add (tl(tl s)) (tl(tem))  ) )) ) in tem"
   ]
  },
  {
   "cell_type": "code",
   "execution_count": 24,
   "metadata": {
    "deletable": false,
    "editable": false,
    "nbgrader": {
     "cell_type": "code",
     "checksum": "78c64258d456f9e081f86ccbb0416097",
     "grade": true,
     "grade_id": "cell-28dbf27382639535",
     "locked": true,
     "points": 15,
     "schema_version": 3,
     "solution": false,
     "task": false
    }
   },
   "outputs": [
    {
     "data": {
      "text/plain": [
       "- : unit = ()\n"
      ]
     },
     "execution_count": 24,
     "metadata": {},
     "output_type": "execute_result"
    }
   ],
   "source": [
    "(* 15 points *)\n",
    "let rec f x = Cons (x, lazy (f (x+.1.0))) in\n",
    "assert (take 10 (total (f 1.0)) = [1.; 3.; 6.; 10.; 15.; 21.; 28.; 36.; 45.; 55.])"
   ]
  },
  {
   "cell_type": "markdown",
   "metadata": {
    "deletable": false,
    "editable": false,
    "nbgrader": {
     "cell_type": "markdown",
     "checksum": "241c8597d14c511ea1167ecdd7e3d833",
     "grade": false,
     "grade_id": "cell-c70bc8fdf44beddb",
     "locked": true,
     "schema_version": 3,
     "solution": false,
     "task": false
    }
   },
   "source": [
    "## Problem 7\n",
    "\n",
    "Define a function `within : float -> float stream -> float`, such that `within eps s` is the first element of `s` for which the absolute difference between that element and the element before it is strictly less than `eps`. If there is no such element, within is permitted not to terminate (i.e., go into an \"infinite loop\"). As a precondition, the tolerance `eps` must be strictly positive. For example, `within 0.1 <1.0; 2.0; 2.5; 2.75; 2.875; 2.9375; 2.96875; ...>` is `2.9375`."
   ]
  },
  {
   "cell_type": "code",
   "execution_count": 25,
   "metadata": {
    "deletable": false,
    "nbgrader": {
     "cell_type": "code",
     "checksum": "e0103edbd12d352787099c8f2ee10e70",
     "grade": false,
     "grade_id": "cell-f4e48967be8f9898",
     "locked": false,
     "schema_version": 3,
     "solution": true,
     "task": false
    }
   },
   "outputs": [
    {
     "data": {
      "text/plain": [
       "val sub : float -> float -> float = <fun>\n"
      ]
     },
     "execution_count": 25,
     "metadata": {},
     "output_type": "execute_result"
    },
    {
     "data": {
      "text/plain": [
       "val newstream : float stream -> float stream = <fun>\n"
      ]
     },
     "execution_count": 25,
     "metadata": {},
     "output_type": "execute_result"
    },
    {
     "data": {
      "text/plain": [
       "val zip : ('a -> 'b -> 'c) -> 'a stream -> 'b stream -> 'c stream = <fun>\n"
      ]
     },
     "execution_count": 25,
     "metadata": {},
     "output_type": "execute_result"
    },
    {
     "data": {
      "text/plain": [
       "val check : 'a -> 'b stream -> 'a stream -> 'b = <fun>\n"
      ]
     },
     "execution_count": 25,
     "metadata": {},
     "output_type": "execute_result"
    },
    {
     "data": {
      "text/plain": [
       "val within : float -> float stream -> float = <fun>\n"
      ]
     },
     "execution_count": 25,
     "metadata": {},
     "output_type": "execute_result"
    }
   ],
   "source": [
    "let sub a b = Float.add a (Float.neg b)\n",
    "\n",
    "let newstream s = zip sub (tl s) s\n",
    "\n",
    "let rec zip f s1 s2 = Cons (f (hd s1) (hd s2), lazy(zip f (tl s1) (tl s2)) )\n",
    "\n",
    "let rec check eps s s' = if((hd s') < eps) then hd(s) else check eps (tl s) (tl s')\n",
    "                        \n",
    "let within eps s = check eps s (newstream s)"
   ]
  },
  {
   "cell_type": "code",
   "execution_count": 26,
   "metadata": {
    "deletable": false,
    "editable": false,
    "nbgrader": {
     "cell_type": "code",
     "checksum": "6b85c1647841404268d3dee8025d7e57",
     "grade": true,
     "grade_id": "cell-4caf946505d0634c",
     "locked": true,
     "points": 20,
     "schema_version": 3,
     "solution": false,
     "task": false
    }
   },
   "outputs": [
    {
     "data": {
      "text/plain": [
       "- : unit = ()\n"
      ]
     },
     "execution_count": 26,
     "metadata": {},
     "output_type": "execute_result"
    }
   ],
   "source": [
    "(* 20 points *)\n",
    "assert (Float.round(within 1e-15 (total (e_terms 1.0)) *. (10. ** 3.)) = 2718.)"
   ]
  },
  {
   "cell_type": "markdown",
   "metadata": {
    "deletable": false,
    "editable": false,
    "nbgrader": {
     "cell_type": "markdown",
     "checksum": "20e61867dedc5680d9ad8eb288bbf742",
     "grade": false,
     "grade_id": "cell-6ba13c71ecc62878",
     "locked": true,
     "schema_version": 3,
     "solution": false,
     "task": false
    }
   },
   "source": [
    "## Problem 8\n",
    "\n",
    "Finally, define a function `e : float -> float -> float` such that `e x eps` is  $e^x$  computed to within a tolerance of `eps`, which must be strictly positive. Note that there is an interesting boundary case where `x=1.0` for the first two terms of the sum; you could choose to drop the first term (which is always 1.0) from the stream before using `within`."
   ]
  },
  {
   "cell_type": "code",
   "execution_count": 27,
   "metadata": {
    "deletable": false,
    "nbgrader": {
     "cell_type": "code",
     "checksum": "7ae941415cf20d9cf69e9d525daee4f4",
     "grade": false,
     "grade_id": "cell-c33b013820002d0c",
     "locked": false,
     "schema_version": 3,
     "solution": true,
     "task": false
    }
   },
   "outputs": [
    {
     "data": {
      "text/plain": [
       "val e : float -> float -> float = <fun>\n"
      ]
     },
     "execution_count": 27,
     "metadata": {},
     "output_type": "execute_result"
    }
   ],
   "source": [
    "let e x eps =  within eps (total (e_terms x))"
   ]
  },
  {
   "cell_type": "code",
   "execution_count": 28,
   "metadata": {
    "deletable": false,
    "editable": false,
    "nbgrader": {
     "cell_type": "code",
     "checksum": "7a048a9078da4fb27e5ae9ffba8142f1",
     "grade": true,
     "grade_id": "cell-13a9b0ef092dddbe",
     "locked": true,
     "points": 10,
     "schema_version": 3,
     "solution": false,
     "task": false
    }
   },
   "outputs": [
    {
     "data": {
      "text/plain": [
       "- : unit = ()\n"
      ]
     },
     "execution_count": 28,
     "metadata": {},
     "output_type": "execute_result"
    }
   ],
   "source": [
    "(* 10 points *)\n",
    "assert (Float.round (e 1.0 1e-15 *. (10. ** 6.)) = 2718282.)"
   ]
  }
 ],
 "metadata": {
  "kernelspec": {
   "display_name": "OCaml 4.10",
   "language": "OCaml",
   "name": "ocaml-jupyter"
  },
  "language_info": {
   "codemirror_mode": "text/x-ocaml",
   "file_extension": ".ml",
   "mimetype": "text/x-ocaml",
   "name": "OCaml",
   "nbconverter_exporter": null,
   "pygments_lexer": "OCaml",
   "version": "4.10.0"
  }
 },
 "nbformat": 4,
 "nbformat_minor": 2
}
